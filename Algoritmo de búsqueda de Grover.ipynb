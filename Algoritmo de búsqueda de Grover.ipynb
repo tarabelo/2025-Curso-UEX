{
  "cells": [
    {
      "cell_type": "markdown",
      "metadata": {
        "id": "view-in-github",
        "colab_type": "text"
      },
      "source": [
        "<a href=\"https://colab.research.google.com/github/tarabelo/2025-Curso-UEX/blob/main/Algoritmo%20de%20b%C3%BAsqueda%20de%20Grover.ipynb\" target=\"_parent\"><img src=\"https://colab.research.google.com/assets/colab-badge.svg\" alt=\"Open In Colab\"/></a>"
      ]
    },
    {
      "cell_type": "code",
      "source": [
        "# Instalamos qiskit en el notebook\n",
        "!pip install qiskit qiskit-aer pylatexenc"
      ],
      "metadata": {
        "id": "T0gD2RamevFL",
        "outputId": "03618b5a-45e1-4861-a415-3a3941aeba34",
        "colab": {
          "base_uri": "https://localhost:8080/"
        }
      },
      "id": "T0gD2RamevFL",
      "execution_count": 1,
      "outputs": [
        {
          "output_type": "stream",
          "name": "stdout",
          "text": [
            "Collecting qiskit\n",
            "  Downloading qiskit-2.0.2-cp39-abi3-manylinux_2_17_x86_64.manylinux2014_x86_64.whl.metadata (12 kB)\n",
            "Collecting qiskit-aer\n",
            "  Downloading qiskit_aer-0.17.0-cp311-cp311-manylinux_2_17_x86_64.manylinux2014_x86_64.whl.metadata (8.2 kB)\n",
            "Collecting pylatexenc\n",
            "  Downloading pylatexenc-2.10.tar.gz (162 kB)\n",
            "\u001b[2K     \u001b[90m━━━━━━━━━━━━━━━━━━━━━━━━━━━━━━━━━━━━━━━\u001b[0m \u001b[32m162.6/162.6 kB\u001b[0m \u001b[31m6.1 MB/s\u001b[0m eta \u001b[36m0:00:00\u001b[0m\n",
            "\u001b[?25h  Preparing metadata (setup.py) ... \u001b[?25l\u001b[?25hdone\n",
            "Collecting rustworkx>=0.15.0 (from qiskit)\n",
            "  Downloading rustworkx-0.16.0-cp39-abi3-manylinux_2_17_x86_64.manylinux2014_x86_64.whl.metadata (10 kB)\n",
            "Requirement already satisfied: numpy<3,>=1.17 in /usr/local/lib/python3.11/dist-packages (from qiskit) (2.0.2)\n",
            "Requirement already satisfied: scipy>=1.5 in /usr/local/lib/python3.11/dist-packages (from qiskit) (1.15.3)\n",
            "Requirement already satisfied: sympy>=1.3 in /usr/local/lib/python3.11/dist-packages (from qiskit) (1.13.1)\n",
            "Requirement already satisfied: dill>=0.3 in /usr/local/lib/python3.11/dist-packages (from qiskit) (0.3.7)\n",
            "Requirement already satisfied: python-dateutil>=2.8.0 in /usr/local/lib/python3.11/dist-packages (from qiskit) (2.9.0.post0)\n",
            "Collecting stevedore>=3.0.0 (from qiskit)\n",
            "  Downloading stevedore-5.4.1-py3-none-any.whl.metadata (2.3 kB)\n",
            "Requirement already satisfied: typing-extensions in /usr/local/lib/python3.11/dist-packages (from qiskit) (4.13.2)\n",
            "Collecting symengine<0.14,>=0.11 (from qiskit)\n",
            "  Downloading symengine-0.13.0-cp311-cp311-manylinux_2_17_x86_64.manylinux2014_x86_64.whl.metadata (1.2 kB)\n",
            "Requirement already satisfied: psutil>=5 in /usr/local/lib/python3.11/dist-packages (from qiskit-aer) (5.9.5)\n",
            "Requirement already satisfied: six>=1.5 in /usr/local/lib/python3.11/dist-packages (from python-dateutil>=2.8.0->qiskit) (1.17.0)\n",
            "Collecting pbr>=2.0.0 (from stevedore>=3.0.0->qiskit)\n",
            "  Downloading pbr-6.1.1-py2.py3-none-any.whl.metadata (3.4 kB)\n",
            "Requirement already satisfied: mpmath<1.4,>=1.1.0 in /usr/local/lib/python3.11/dist-packages (from sympy>=1.3->qiskit) (1.3.0)\n",
            "Requirement already satisfied: setuptools in /usr/local/lib/python3.11/dist-packages (from pbr>=2.0.0->stevedore>=3.0.0->qiskit) (75.2.0)\n",
            "Downloading qiskit-2.0.2-cp39-abi3-manylinux_2_17_x86_64.manylinux2014_x86_64.whl (6.5 MB)\n",
            "\u001b[2K   \u001b[90m━━━━━━━━━━━━━━━━━━━━━━━━━━━━━━━━━━━━━━━━\u001b[0m \u001b[32m6.5/6.5 MB\u001b[0m \u001b[31m51.2 MB/s\u001b[0m eta \u001b[36m0:00:00\u001b[0m\n",
            "\u001b[?25hDownloading qiskit_aer-0.17.0-cp311-cp311-manylinux_2_17_x86_64.manylinux2014_x86_64.whl (12.4 MB)\n",
            "\u001b[2K   \u001b[90m━━━━━━━━━━━━━━━━━━━━━━━━━━━━━━━━━━━━━━━━\u001b[0m \u001b[32m12.4/12.4 MB\u001b[0m \u001b[31m73.5 MB/s\u001b[0m eta \u001b[36m0:00:00\u001b[0m\n",
            "\u001b[?25hDownloading rustworkx-0.16.0-cp39-abi3-manylinux_2_17_x86_64.manylinux2014_x86_64.whl (2.1 MB)\n",
            "\u001b[2K   \u001b[90m━━━━━━━━━━━━━━━━━━━━━━━━━━━━━━━━━━━━━━━━\u001b[0m \u001b[32m2.1/2.1 MB\u001b[0m \u001b[31m42.6 MB/s\u001b[0m eta \u001b[36m0:00:00\u001b[0m\n",
            "\u001b[?25hDownloading stevedore-5.4.1-py3-none-any.whl (49 kB)\n",
            "\u001b[2K   \u001b[90m━━━━━━━━━━━━━━━━━━━━━━━━━━━━━━━━━━━━━━━━\u001b[0m \u001b[32m49.5/49.5 kB\u001b[0m \u001b[31m4.0 MB/s\u001b[0m eta \u001b[36m0:00:00\u001b[0m\n",
            "\u001b[?25hDownloading symengine-0.13.0-cp311-cp311-manylinux_2_17_x86_64.manylinux2014_x86_64.whl (49.7 MB)\n",
            "\u001b[2K   \u001b[90m━━━━━━━━━━━━━━━━━━━━━━━━━━━━━━━━━━━━━━━━\u001b[0m \u001b[32m49.7/49.7 MB\u001b[0m \u001b[31m12.0 MB/s\u001b[0m eta \u001b[36m0:00:00\u001b[0m\n",
            "\u001b[?25hDownloading pbr-6.1.1-py2.py3-none-any.whl (108 kB)\n",
            "\u001b[2K   \u001b[90m━━━━━━━━━━━━━━━━━━━━━━━━━━━━━━━━━━━━━━━━\u001b[0m \u001b[32m109.0/109.0 kB\u001b[0m \u001b[31m7.0 MB/s\u001b[0m eta \u001b[36m0:00:00\u001b[0m\n",
            "\u001b[?25hBuilding wheels for collected packages: pylatexenc\n",
            "  Building wheel for pylatexenc (setup.py) ... \u001b[?25l\u001b[?25hdone\n",
            "  Created wheel for pylatexenc: filename=pylatexenc-2.10-py3-none-any.whl size=136817 sha256=d58341bda8989fd42179efa864e40d37efd16f380649631aa094ee596de1c492\n",
            "  Stored in directory: /root/.cache/pip/wheels/b1/7a/33/9fdd892f784ed4afda62b685ae3703adf4c91aa0f524c28f03\n",
            "Successfully built pylatexenc\n",
            "Installing collected packages: pylatexenc, symengine, rustworkx, pbr, stevedore, qiskit, qiskit-aer\n",
            "Successfully installed pbr-6.1.1 pylatexenc-2.10 qiskit-2.0.2 qiskit-aer-0.17.0 rustworkx-0.16.0 stevedore-5.4.1 symengine-0.13.0\n"
          ]
        }
      ]
    },
    {
      "cell_type": "code",
      "execution_count": 2,
      "id": "formal-celebration",
      "metadata": {
        "id": "formal-celebration"
      },
      "outputs": [],
      "source": [
        "import numpy as np\n",
        "from math import sqrt\n",
        "\n",
        "# importing Qiskit\n",
        "from qiskit import QuantumCircuit, QuantumRegister, ClassicalRegister, transpile\n",
        "from qiskit.quantum_info import Statevector\n",
        "from qiskit_aer import AerSimulator\n",
        "# import basic plot tools\n",
        "from qiskit.visualization import plot_histogram\n",
        "\n",
        "# Funciones auxiliares\n",
        "\n",
        "# Función para simular y mostrar el vector de estado\n",
        "def obten_estado(qcirc, etiqueta=\"|\\psi\\!\\!> = \", bloch=False):\n",
        "    # Usamos el simulador de vector de estado\n",
        "    # https://qiskit.github.io/qiskit-aer/stubs/qiskit_aer.AerSimulator.html\n",
        "    sim = AerSimulator(method='statevector')\n",
        "    qc_obj = transpile(qcirc, sim)\n",
        "    result = sim.run(qc_obj).result()\n",
        "    estado = result.get_statevector()\n",
        "    display(estado.draw('latex', prefix=etiqueta))\n",
        "    if bloch:\n",
        "      display(estado.draw('bloch'))\n",
        "\n",
        "# Funcion para obtener y mostrar la matriz unitaria\n",
        "def obten_unitaria(qcirc, etiqueta):\n",
        "    # Usamos el simulador de matriz unitaria\n",
        "    sim_u = AerSimulator(method='unitary')\n",
        "    qc_obj = transpile(qcirc, sim_u)\n",
        "    result = sim_u.run(qcirc).result()\n",
        "    unitary = result.get_unitary(qcirc)\n",
        "    display(unitary.draw('latex', prefix=etiqueta))"
      ]
    },
    {
      "cell_type": "markdown",
      "id": "monetary-aerospace",
      "metadata": {
        "id": "monetary-aerospace"
      },
      "source": [
        "# Algoritmo de búsqueda de Grover: amplificación de amplitud <a name=\"grover\"></a>"
      ]
    },
    {
      "cell_type": "markdown",
      "id": "unlikely-secretariat",
      "metadata": {
        "id": "unlikely-secretariat"
      },
      "source": [
        "\n",
        "Primer algoritmo con una utilidad práctica real.\n",
        " - No presenta una ventaja exponencial, solo cuadrática\n",
        "\n",
        "Puede usarse en diferentes aplicaciones:\n",
        " - Búsqueda en bases de datos no ordenadas\n",
        " - [Cálculo de Colisiones Hash](https://arxiv.org/abs/quant-ph/9705002)\n",
        " - Problemas de satisfacción de restricciones: [Grover Adaptive Search](https://qiskit-community.github.io/qiskit-optimization/tutorials/04_grover_optimizer.html)\n"
      ]
    },
    {
      "cell_type": "markdown",
      "id": "substantial-medline",
      "metadata": {
        "id": "substantial-medline"
      },
      "source": [
        "### Contenidos\n",
        "\n",
        "1. [Oráculo Grover](#oraculo)\n",
        "1. [Inversión de fase](#inversion)\n",
        "1. [Amplificación de amplitud](#amplitud)\n",
        "1. [Interpretación geométrica del algoritmo de Grover](#geo)"
      ]
    },
    {
      "cell_type": "markdown",
      "id": "outstanding-paper",
      "metadata": {
        "id": "outstanding-paper"
      },
      "source": [
        "# Oráculo Grover<a name=\"oraculo\"></a>\n",
        "\n",
        "Este algoritmo busca un dato en una lista no estructurada.\n",
        "\n",
        "El oráculo $f:\\{0,1\\}^n \\rightarrow \\{0,1\\}$ es tal que existe un único $x_i$ tal que:\n",
        "$$\n",
        "f(x) =\n",
        "\\begin{cases}\n",
        "1, \\text{si } x=x_i\\\\\n",
        "0, \\text{si } x\\ne x_i\n",
        "\\end{cases}\n",
        "$$\n",
        "\n",
        "Buscamos $x_i$.\n",
        "\n",
        "**Nota**: Es posible generalizar el algoritmo para cuando existe más de un dato $x_i$\n",
        "\n",
        "**Solución clásica**\n",
        "\n",
        "Si $N=2^n$ es el número de datos en la lista, un algoritmo clásico necesita efectuar, en el peor de los casos $N$ evaluaciones de $f(x)$, y de media $N/2$, por lo que la complejidad es $\\mathcal{O}(2^n)$\n",
        "\n",
        "**Solución cuántica**\n",
        "\n",
        "El algoritmo cuántico ([L. K. Grover, 1996](http://doi.acm.org/10.1145/237814.237866)) solo necesita $\\mathcal{O}\\left(\\sqrt{2^n}\\right)$ evaluaciones.\n",
        "\n",
        "El algoritmo tiene dos partes: **Inversión de fase** y **Amplificación de amplitud**.\n",
        "\n"
      ]
    },
    {
      "cell_type": "markdown",
      "source": [
        "# Inversión de fase<a name=\"inversion\"></a>\n",
        "\n",
        "Mediante el siguiente circuito invertimos la fase de $|x_i\\rangle$:\n",
        "\n",
        "\n",
        "<center><img src=\"https://drive.google.com/uc?export=view&id=1GQrOSYGXzA06IfD4LKAqwwe0V-B8NNFC\" alt=\"Grover inversion de fase\" width=\"700\"  /></center>\n",
        "\n",
        "Pasos:\n",
        "\n",
        "<ol>\n",
        "   <li>\n",
        "        Estado inicial:\n",
        "        \n",
        "\n",
        "$$\\vert \\psi_0 \\rangle =  \\vert1\\rangle\\vert0\\rangle^{\\otimes n}$$\n",
        "\n",
        "\n",
        "   </li>\n",
        "    \n",
        "   <li>\n",
        "        Después de aplicar las primeras puertas H:\n",
        "$$\\vert \\psi_1 \\rangle = \\frac{1}{\\sqrt{2^{n+1}}}\\sum_{x=0}^{2^n-1} (|0\\rangle-|1\\rangle)\\vert x\\rangle $$\n",
        "   </li>\n",
        "   <p>\n",
        "   <li>\n",
        "        Aplicamos $U_f$ a $\\vert y\\rangle\\vert x\\rangle$ para obtener $\\vert y \\oplus f(x)\\rangle\\vert x\\rangle$:\n",
        "        $$\n",
        "            \\lvert \\psi_2 \\rangle  \n",
        "                 = \\frac{1}{\\sqrt{2^{n+1}}}\\sum_{x=0}^{2^n-1}(|0\\oplus f(x)\\rangle - |1\\oplus f(x)\\rangle)|x\\rangle\n",
        "        $$\n",
        "          </li>\n",
        "<p>\n",
        "   <li>Como $f(x) = 1$ si $x = x_i$ y $f(x)=0$ en otro caso podemos escribir:\n",
        "$$\n",
        "\\begin{aligned}\n",
        "\\lvert \\psi_2 \\rangle  \n",
        "&= \\frac{1}{\\sqrt{2^{n+1}}}\\left[\\left(|0\\oplus f(x_i)\\rangle - |1\\oplus f(x_i)\\rangle\\right)|x_i\\rangle + \\sum_{x\\ne x_i}\\left(|0\\oplus f(x)\\rangle - |1\\oplus f(x)\\rangle\\right)|x\\rangle\\right] \\\\\n",
        "&= \\frac{1}{\\sqrt{2^{n+1}}}\\left[(|1\\rangle - |0\\rangle)|x_i\\rangle + \\sum_{x\\ne x_i}\\left(|0\\rangle - |1\\rangle\\right)|x\\rangle\\right] \\\\\n",
        "&= \\frac{1}{\\sqrt{2^{n+1}}}\\left[\\left(\\sum_{x\\ne x_i}\\left(|0\\rangle - |1\\rangle\\right)|x\\rangle\\right) - (|0\\rangle - |1\\rangle)|x_i\\rangle\\right] \\\\\n",
        "&= \\frac{|0\\rangle - |1\\rangle}{\\sqrt{2}}\\frac{\\sum_{x\\ne x_i}|x\\rangle- |x_i\\rangle}{\\sqrt{2^{n}}}\n",
        "\\end{aligned}\n",
        "$$  \n",
        "          </li><br>\n",
        "</ol>\n",
        "\n",
        "El estado que medimos es, por lo tanto:\n",
        "\n",
        "$$\n",
        "\\frac{\\sum_{x\\ne x_i}|x\\rangle- |x_i\\rangle}{\\sqrt{2^{n}}}\n",
        "$$\n",
        "\n",
        "Vemos que el estado $|x_i\\rangle$ aparece con signo negativo.\n",
        "\n"
      ],
      "metadata": {
        "id": "m6xXhSalVRaQ"
      },
      "id": "m6xXhSalVRaQ"
    },
    {
      "cell_type": "markdown",
      "source": [
        "Implementar esta inversión de fase es simple ya que es una operación reversible.  \n",
        "\n",
        "Con 2 cúbits queremos invertir el estado $s = |10\\rangle$:\n",
        "\n",
        "1. Partimos de un estado en superposición\n",
        "$$\n",
        "\\frac{|00\\rangle + |01\\rangle + |10\\rangle + |11\\rangle}{2}\n",
        "$$\n",
        "2. Invertimos los cúbits para los cuales hay un 0 en $s$ y obtenemos:\n",
        "$$\n",
        "\\frac{|01\\rangle + |00\\rangle + |11\\rangle + |10\\rangle}{2}\n",
        "$$\n",
        "3. Aplicamos una puerta CZ entre los cúbits, que cambia el signo al estado $|11\\rangle$\n",
        "$$\n",
        "\\frac{|01\\rangle + |00\\rangle - |11\\rangle + |10\\rangle}{2}\n",
        "$$\n",
        "4. Volvemos a invertir los cúbits para los cuales hay un 0 en $s$:\n",
        "$$\n",
        "\\frac{|00\\rangle + |01\\rangle - |10\\rangle + |11\\rangle}{2}\n",
        "$$"
      ],
      "metadata": {
        "id": "oRDIIOZSKoTI"
      },
      "id": "oRDIIOZSKoTI"
    },
    {
      "cell_type": "markdown",
      "id": "rough-queen",
      "metadata": {
        "id": "rough-queen"
      },
      "source": [
        "El problema es que, al medir, obtenemos con igual probabilidad cualquier valor de $|x\\rangle$ ya que lo único que diferencia a $|x_i\\rangle$ es la fase. Necesitamos convertir diferencias de fase en diferencias de amplitud, lo que se consigue amplificando la amplitud del estado marcado."
      ]
    },
    {
      "cell_type": "markdown",
      "id": "5221a390",
      "metadata": {
        "id": "5221a390"
      },
      "source": [
        "### Ejemplo 1\n",
        "\n",
        "Circuito de 3 cúbits implementando la inversión de fase para un estado determinado, usando una puerta CCZ.\n"
      ]
    },
    {
      "cell_type": "code",
      "execution_count": 3,
      "id": "buried-bruce",
      "metadata": {
        "id": "buried-bruce",
        "outputId": "28b95ebe-8f76-4a0a-a62c-b7ebafc5daad",
        "colab": {
          "base_uri": "https://localhost:8080/",
          "height": 255
        }
      },
      "outputs": [
        {
          "output_type": "execute_result",
          "data": {
            "text/plain": [
              "<Figure size 705.552x284.278 with 1 Axes>"
            ],
            "image/png": "[encoded data removed]"
          },
          "metadata": {},
          "execution_count": 3
        }
      ],
      "source": [
        "# Queremos invertir el estado |010>\n",
        "n = 3 # número de cúbits\n",
        "s = 2 # estado |010>\n",
        "\n",
        "# Creamos el circuito\n",
        "qc_pinv = QuantumCircuit(n)\n",
        "\n",
        "# Ponemos los qbits en superposición\n",
        "for q in range(n):\n",
        "    qc_pinv.h(q)\n",
        "\n",
        "# Invertimos los cubits para los que s tenga un bit a 0\n",
        "temp = s\n",
        "for b in range(n):\n",
        "    if(temp&1 == 0):\n",
        "        qc_pinv.x(b)\n",
        "    temp >>= 1\n",
        "\n",
        "qc_pinv.ccz(0,1,2)  # El cambio de fase afecta a |s>\n",
        "\n",
        "# Volvemos a invertir los cubits para los que s tenga un bit a 0\n",
        "temp = s\n",
        "for b in range(n):\n",
        "    if(temp&1 == 0):\n",
        "        qc_pinv.x(b)\n",
        "    temp >>= 1\n",
        "\n",
        "qc_pinv.save_statevector()\n",
        "qc_pinv.draw('mpl')"
      ]
    },
    {
      "cell_type": "code",
      "source": [
        "obten_estado(qc_pinv)"
      ],
      "metadata": {
        "id": "b2VNmiLDv_-r",
        "outputId": "0d8dad6b-6563-456a-d80c-bee351175757",
        "colab": {
          "base_uri": "https://localhost:8080/",
          "height": 40
        }
      },
      "id": "b2VNmiLDv_-r",
      "execution_count": 4,
      "outputs": [
        {
          "output_type": "display_data",
          "data": {
            "text/plain": [
              "<IPython.core.display.Latex object>"
            ],
            "text/latex": "$$|\\psi\\!\\!> = \\frac{\\sqrt{2}}{4} |000\\rangle+\\frac{\\sqrt{2}}{4} |001\\rangle- \\frac{\\sqrt{2}}{4} |010\\rangle+\\frac{\\sqrt{2}}{4} |011\\rangle+\\frac{\\sqrt{2}}{4} |100\\rangle+\\frac{\\sqrt{2}}{4} |101\\rangle+\\frac{\\sqrt{2}}{4} |110\\rangle+\\frac{\\sqrt{2}}{4} |111\\rangle$$"
          },
          "metadata": {}
        }
      ]
    },
    {
      "cell_type": "code",
      "source": [
        "# Simulamos para ver la salida\n",
        "sim = AerSimulator(method='automatic')\n",
        "qc_obj = transpile(qc_pinv,sim)\n",
        "result = sim.run(qc_obj).result()\n",
        "salida = result.get_counts()\n",
        "plot_histogram(salida)"
      ],
      "metadata": {
        "id": "Uzh5J5cXwCZx",
        "outputId": "e90b1f53-2927-4199-c913-a1bc23edb312",
        "colab": {
          "base_uri": "https://localhost:8080/",
          "height": 487
        }
      },
      "id": "Uzh5J5cXwCZx",
      "execution_count": 5,
      "outputs": [
        {
          "output_type": "execute_result",
          "data": {
            "text/plain": [
              "<Figure size 640x480 with 1 Axes>"
            ],
            "image/png": "[encoded data removed]"
          },
          "metadata": {},
          "execution_count": 5
        }
      ]
    },
    {
      "cell_type": "markdown",
      "source": [
        "### Ejemplo 2\n",
        "\n",
        "Usando una puerta multi-controlled multi-target \\([MCMT](https://docs.quantum.ibm.com/api/qiskit/qiskit.circuit.library.MCMT)\\) podemos generalizarlo a un numero arbitrario de cúbits.\n"
      ],
      "metadata": {
        "id": "NaWzPmzdwOmd"
      },
      "id": "NaWzPmzdwOmd"
    },
    {
      "cell_type": "code",
      "source": [
        "from qiskit.circuit.library import MCMTGate, ZGate\n",
        "\n",
        "\n",
        "def inversor(n,s):\n",
        "    # Creamos el circuito\n",
        "    qc = QuantumCircuit(n)\n",
        "\n",
        "    # Invertimos los cubits para los que s tenga un bit a 0\n",
        "    temp = s\n",
        "    for b in range(n):\n",
        "        if(temp&1 == 0):\n",
        "            qc.x(b)\n",
        "        temp >>= 1\n",
        "\n",
        "    qc = qc.compose(MCMTGate(ZGate(),n-1,1)) # Puerta Z con n-1 control y 1 target\n",
        "\n",
        "    # Volvemos a invertir los cubits para los que s tenga un bit a 0\n",
        "    temp = s\n",
        "    for b in range(n):\n",
        "        if(temp&1 == 0):\n",
        "            qc.x(b)\n",
        "        temp >>= 1\n",
        "    return qc\n",
        "\n",
        "n = 4 # Número de cúbits\n",
        "s = 5 # Estado a invertir\n",
        "\n",
        "qc_pinv = QuantumCircuit(n)\n",
        "\n",
        "# Ponemos los qbits en superposición\n",
        "for q in range(n):\n",
        "    qc_pinv.h(q)\n",
        "\n",
        "# Añadimos el inversor\n",
        "qc_pinv = qc_pinv.compose(inversor(n,s))\n",
        "qc_pinv.save_statevector()\n",
        "qc_pinv.draw('mpl')"
      ],
      "metadata": {
        "id": "Q9R0n0y8xV3F",
        "outputId": "ee5b0aeb-155b-4fcd-fa17-9d3361bf4298",
        "colab": {
          "base_uri": "https://localhost:8080/",
          "height": 320
        }
      },
      "id": "Q9R0n0y8xV3F",
      "execution_count": 12,
      "outputs": [
        {
          "output_type": "execute_result",
          "data": {
            "text/plain": [
              "<Figure size 705.552x367.889 with 1 Axes>"
            ],
            "image/png": "[encoded data removed]"
          },
          "metadata": {},
          "execution_count": 12
        }
      ]
    },
    {
      "cell_type": "code",
      "source": [
        "obten_estado(qc_pinv)"
      ],
      "metadata": {
        "id": "kyFWtcNdxl3p",
        "outputId": "de228e94-b6cf-4da8-e20f-41b214e77ad0",
        "colab": {
          "base_uri": "https://localhost:8080/",
          "height": 39
        }
      },
      "id": "kyFWtcNdxl3p",
      "execution_count": 13,
      "outputs": [
        {
          "output_type": "display_data",
          "data": {
            "text/plain": [
              "<IPython.core.display.Latex object>"
            ],
            "text/latex": "$$|\\psi\\!\\!> = \\frac{1}{4} |0000\\rangle+\\frac{1}{4} |0001\\rangle+\\frac{1}{4} |0010\\rangle+\\frac{1}{4} |0011\\rangle+\\frac{1}{4} |0100\\rangle- \\frac{1}{4} |0101\\rangle + \\ldots +\\frac{1}{4} |1011\\rangle+\\frac{1}{4} |1100\\rangle+\\frac{1}{4} |1101\\rangle+\\frac{1}{4} |1110\\rangle+\\frac{1}{4} |1111\\rangle$$"
          },
          "metadata": {}
        }
      ]
    },
    {
      "cell_type": "markdown",
      "source": [
        "### Ejemplo 3\n",
        "\n",
        "Generalizamos el caso anterior para invertir varios estados."
      ],
      "metadata": {
        "id": "sFzIoG0ixufB"
      },
      "id": "sFzIoG0ixufB"
    },
    {
      "cell_type": "code",
      "source": [
        "from qiskit.circuit.library import MCMTGate, ZGate\n",
        "\n",
        "# Ahora s es una lista con los estados que queremos invertir\n",
        "def inversor(n,slist):\n",
        "    # Creamos el circuito\n",
        "    qc = QuantumCircuit(n)\n",
        "\n",
        "    # Invertimos los cubits para los que s tenga un bit a 0\n",
        "    for s in slist:\n",
        "        temp = s\n",
        "        for b in range(n):\n",
        "            if(temp&1 == 0):\n",
        "                qc.x(b)\n",
        "            temp >>= 1\n",
        "\n",
        "        qc = qc.compose(MCMTGate(ZGate(),n-1,1)) # Puerta Z con n-1 control y 1 target\n",
        "\n",
        "        # Volvemos a invertir los cubits para los que s tenga un bit a 0\n",
        "        temp = s\n",
        "        for b in range(n):\n",
        "            if(temp&1 == 0):\n",
        "                qc.x(b)\n",
        "            temp >>= 1\n",
        "    return qc\n",
        "\n",
        "n = 3 # Número de cúbits\n",
        "s = [1,5] # Estado a invertir\n",
        "\n",
        "qc_pinv = QuantumCircuit(n)\n",
        "\n",
        "# Ponemos los qbits en superposición\n",
        "for q in range(n):\n",
        "    qc_pinv.h(q)\n",
        "\n",
        "# Añadimos el inversor\n",
        "qc_pinv = qc_pinv.compose(inversor(n,s))\n",
        "qc_pinv.save_statevector()\n",
        "qc_pinv.draw('mpl')"
      ],
      "metadata": {
        "id": "F10ttw8gyBr_",
        "outputId": "d15f4798-2400-4503-f3d2-f2d41ef2e923",
        "colab": {
          "base_uri": "https://localhost:8080/",
          "height": 255
        }
      },
      "id": "F10ttw8gyBr_",
      "execution_count": 14,
      "outputs": [
        {
          "output_type": "execute_result",
          "data": {
            "text/plain": [
              "<Figure size 956.385x284.278 with 1 Axes>"
            ],
            "image/png": "[encoded data removed]"
          },
          "metadata": {},
          "execution_count": 14
        }
      ]
    },
    {
      "cell_type": "code",
      "source": [
        "obten_estado(qc_pinv)"
      ],
      "metadata": {
        "id": "nspMzH0ZyYwU",
        "outputId": "74aac7e4-ce75-4a1d-b5b3-46e2ec6ca8cd",
        "colab": {
          "base_uri": "https://localhost:8080/",
          "height": 40
        }
      },
      "id": "nspMzH0ZyYwU",
      "execution_count": 15,
      "outputs": [
        {
          "output_type": "display_data",
          "data": {
            "text/plain": [
              "<IPython.core.display.Latex object>"
            ],
            "text/latex": "$$|\\psi\\!\\!> = \\frac{\\sqrt{2}}{4} |000\\rangle- \\frac{\\sqrt{2}}{4} |001\\rangle+\\frac{\\sqrt{2}}{4} |010\\rangle+\\frac{\\sqrt{2}}{4} |011\\rangle+\\frac{\\sqrt{2}}{4} |100\\rangle- \\frac{\\sqrt{2}}{4} |101\\rangle+\\frac{\\sqrt{2}}{4} |110\\rangle+\\frac{\\sqrt{2}}{4} |111\\rangle$$"
          },
          "metadata": {}
        }
      ]
    },
    {
      "cell_type": "markdown",
      "id": "waiting-onion",
      "metadata": {
        "id": "waiting-onion"
      },
      "source": [
        "# Amplificación de amplitud<a name=\"amplitud\"></a>"
      ]
    },
    {
      "cell_type": "markdown",
      "id": "static-rider",
      "metadata": {
        "id": "static-rider"
      },
      "source": [
        "La AA se basa en aumentar la amplitud de los estados que tengan una fase negativa. La idea básica es la *inversión sobre la media*.\n",
        "\n",
        "Supongamos el vector (decimal) $v=[10,10,10,-10,10]^T$. La media de esos valores es $\\overline{v}=6$. Y la diferencia, en valor absoluto, entre $v[3]$ y el resto de valores es $0$.\n",
        "\n",
        "Invertir sobre la media consiste en repetir esta operación:\n",
        "\n",
        "$$\n",
        "v^\\prime = \\overline{v} + (\\overline{v}-v) = 2\\overline{v} -v,\\quad i = 0,1,2\\ldots\n",
        "$$\n",
        "\n",
        "cambiando en cada iteración el signo del elemento negativo de $v$.\n",
        "\n",
        "Aplicando esta operación al vector anterior obtenemos:\n",
        "\n",
        "$$\n",
        "v^\\prime=2\\times6 - v = [12,12,12,12,12]^T - [10,10,10,-10,10]^T = [2,2,2,22,2]^T\n",
        "$$\n",
        "\n",
        "La media sigue siendo la misma pero el tercer valor, antes negativo, se separa del resto. La diferencia ahora es $20$.\n",
        "\n",
        "Podemos repetir el procedimiento, negando $v[3]$ para obtener $v=[2,2,2,-22,2]^T$ de media $\\overline{v}=-2.8$. Volviendo a calcular $v^\\prime$, obtenemos:\n",
        "\n",
        "$$\n",
        "v^\\prime=2\\times-2.8 - v = [-5.6,-5.6,-5.6,-5.6,-5.6]^T - [2,2,2,-22,2]^T = [-7.6,-7.6,-7.6,16.4,-7.6]^T\n",
        "$$\n",
        "\n",
        "La diferencia, en valor absoluto, entre $v[3]$ y el resto de valores se reduce a $8.8$.\n",
        "\n",
        "En general, si $N$ es grande, a medida que aplicamos la inversión sobre la media esta diferencia se agranda, pero llega un punto en que empieza a disminuir.\n",
        "\n",
        "<br>\n",
        "<center><img src=\"https://drive.google.com/uc?export=view&id=1PfR30KDowUxz8Nfb-hLOV9Dpi9RR5BZc\" alt=\"Evolucion de la inversion\" width=\"700\"  />\n",
        "</center>\n",
        "\n",
        "\n",
        "<center>Fuente: Combarro, González, \"A practical guide to Quantum Machine Learning and Quantum Optimization\", packt, 2023</center>\n",
        "<br>\n",
        "\n",
        "Se puede demostrar que para un vector de $N$ elementos (con $N$ grande), el número de inversiones que obtienen la máxima separación es $\\mathcal{O}(\\sqrt{N})$.\n",
        "\n",
        "<br>"
      ]
    },
    {
      "cell_type": "markdown",
      "source": [
        "\n",
        "\n",
        "Podemos expresar este mecanismo usando matrices. Sea, de nuevo, $v=[10,10,10,-10,10]^T$ y la matriz:\n",
        "\n",
        "$$\n",
        "A=\\frac{1}{5}\n",
        "\\begin{bmatrix}\n",
        "1 & 1 & 1 & 1 & 1\\\\\n",
        "1 & 1 & 1 & 1 & 1\\\\\n",
        "1 & 1 & 1 & 1 & 1\\\\\n",
        "1 & 1 & 1 & 1 & 1\\\\\n",
        "1 & 1 & 1 & 1 & 1\n",
        "\\end{bmatrix}\n",
        "$$\n",
        "\n",
        "Está claro que $Av = [6,6,6,6,6]^T = [\\overline{v}, \\overline{v}, \\overline{v}, \\overline{v}, \\overline{v}]^T$. La operación de inversión la podemos expresar como una operación matricial:\n",
        "\n",
        "$$v^\\prime=2Av-v=(2A-I)v$$\n",
        "\n",
        "Para un vector de $2^n$ elementos, la matriz $2A-1$ será de $2^n\\times 2^n$:\n",
        "$$\n",
        "2A-I=\\frac{2}{2^n}\n",
        "  \\begin{bmatrix}\n",
        "    1 & 1 & \\dots & 1 \\\\\n",
        "    1 & 1 & \\dots & 1 \\\\\n",
        "    \\vdots & \\vdots & \\ddots & \\vdots \\\\\n",
        "    1 & 1 & \\dots & 1\n",
        "  \\end{bmatrix}-\n",
        "  \\begin{bmatrix}\n",
        "    1 & 0 & \\dots & 0 \\\\\n",
        "    0 & 1 & \\dots & 0 \\\\\n",
        "    \\vdots & \\vdots & \\ddots & \\vdots \\\\\n",
        "    0 & 0 & \\dots & 1\n",
        "  \\end{bmatrix} =\\frac{1}{2^{n-1}}\n",
        "  \\begin{bmatrix}\n",
        "    1-2^{n-1} & 1 & \\dots & 1 \\\\\n",
        "    1 & 1-2^{n-1} & \\dots & 1 \\\\\n",
        "    \\vdots & \\vdots & \\ddots & \\vdots \\\\\n",
        "    1 & 1 & \\dots & 1-2^{n-1}\n",
        "  \\end{bmatrix}\n",
        "$$\n",
        "\n",
        "Se puede demostrar que $U = 2A-I$ es una matriz unitaria, por lo que se puede contruir en un circuito cuántico.\n",
        "\n",
        "<br>\n",
        "\n",
        "Para el caso de 2 cúbits, la matriz $2A-I$ queda:\n",
        "$$\n",
        "2A-I=\\frac{1}{2}\n",
        "  \\begin{bmatrix}\n",
        "    -1 & 1 & 1 & 1 \\\\\n",
        "    1 & -1 & 1 & 1 \\\\\n",
        "    1 & 1 & -1 & 1 \\\\\n",
        "    1 & 1 & 1 & -1\n",
        "  \\end{bmatrix}\n",
        "$$\n",
        "\n",
        "Esta matriz se llama operador de difusión o _difusor_ $R_s$.\n",
        "\n",
        "<br>\n",
        "\n",
        "Es fácil verificar que si $|s\\rangle = |+\\rangle^{\\otimes n}$ es el estado de superposición completa, entonces $A = |s\\rangle\\langle s|$, por lo que:\n",
        "\n",
        "$$\n",
        "R_s = 2A-I = 2|s\\rangle\\langle s| -I\n",
        "$$\n",
        "\n"
      ],
      "metadata": {
        "id": "gcgY7ZEa4WlS"
      },
      "id": "gcgY7ZEa4WlS"
    },
    {
      "cell_type": "markdown",
      "source": [
        "### Implementación de $R_s$\n",
        "\n",
        "Dado que $|s\\rangle = |+\\rangle^{\\otimes n}= H^{\\otimes n}|0\\rangle^{\\otimes n}$ se tiene :\n",
        "\n",
        "$$\n",
        "R_s = 2\\left(H^{\\otimes n}|0\\rangle^{\\otimes n}\\langle 0|^{\\otimes n}H^{\\dagger\\otimes n}\\right)-I = 2\\left(H^{\\otimes n}|0\\rangle^{\\otimes n}\\langle 0|^{\\otimes n}H^{\\otimes n}\\right)-I\n",
        "$$\n",
        "\n",
        "ya que $H^\\dagger = H$.\n",
        "\n",
        "Además, podemos escribir $I = H^{\\otimes n}H^{\\otimes n}$. Por lo tanto:\n",
        "\n",
        "$$\n",
        "R_s = 2\\left(H^{\\otimes n}|0\\rangle^{\\otimes n}\\langle 0|^{\\otimes n}H^{\\otimes n}\\right)- H^{\\otimes n}H^{\\otimes n} = H^{\\otimes n}\\left(2|0\\rangle^{\\otimes n}\\langle 0|^{\\otimes n}-I\\right)H^{\\otimes n} = H^{\\otimes n}R_0H^{\\otimes n}\n",
        "$$\n",
        "\n",
        "siendo:\n",
        "\n",
        "$$\n",
        "R_0 = 2|0\\rangle^{\\otimes n}\\langle 0|^{\\otimes n}-I\n",
        "$$\n",
        "\n",
        "<br>\n",
        "\n",
        "Es decir, podemos implementar $R_s$ como $R_0$ rodeado de puertas H:\n",
        "\n",
        "<center><img src=\"https://drive.google.com/uc?export=view&id=1OrYgEeJuhO9RAVpvd1BoS2H-nayFKKhz\" alt=\"Difusor Rs\" width=\"300\"  /></center>\n",
        "\n",
        "\n",
        "### Implementación de $R_0$\n",
        "\n",
        "Es posible comprobar que $R_0$ aplicado a cualquier estado cambia el signo de $|i\\rangle$ para todo $i\\ne 0$.\n",
        "\n",
        "Ejemplo:\n",
        "\n",
        "$$\n",
        "R_0|++\\rangle = \\frac{1}{2}\\left(2|00\\rangle\\langle 00|-I\\right)\\left(|00\\rangle+|01\\rangle+|10\\rangle+|11\\rangle\\right) = \\\\\n",
        "\\frac{1}{2}\\left(2|00\\rangle\\langle 00|00\\rangle + 2|00\\rangle\\langle 00|01\\rangle + 2|00\\rangle\\langle 00|10\\rangle + 2|00\\rangle\\langle 00|11\\rangle - |00\\rangle-|01\\rangle-|10\\rangle-|11\\rangle\\right) = \\frac{1}{2}\\left(|00\\rangle-|01\\rangle-|10\\rangle-|11\\rangle\\right)\n",
        "$$\n",
        "\n",
        "<br>\n",
        "\n",
        "Para implementar esta operación, podemos empezar usando una puerta Z controlada:\n",
        "\n",
        "<br>\n",
        "<center><img src=\"https://drive.google.com/uc?export=view&id=1xpp0U6OmMiNaMaobqtMPIyINGyKGbtdg\" alt=\"Difusor R0: Z controlada\" width=\"150\"  /></center>\n",
        "<br>\n",
        "\n",
        "Si se aplica al estado $|+\\rangle^{\\otimes n}$ cambia el signo del estado $|1\\rangle^{\\otimes n}$:\n",
        "\n",
        "$$\n",
        "\\frac{1}{2}\\left(|00\\rangle+|01\\rangle+|10\\rangle-|11\\rangle\\right)\n",
        "$$\n",
        "\n",
        "<br>\n",
        "\n",
        "Si añadimos puertas X a todos los cúbits, cambiamos el signo del estado $|0\\rangle^{\\otimes n}$\n",
        "\n",
        "<br>\n",
        "<center><img src=\"https://drive.google.com/uc?export=view&id=1k3s4JvVpfzR74-OsvteU6MrbK3P50AvZ\" alt=\"Difusor R0: puertas X\" width=\"200\"  /></center>\n",
        "<br>\n",
        "\n",
        "$$\n",
        "\\frac{1}{2}\\left(-|00\\rangle+|01\\rangle+|10\\rangle+|11\\rangle\\right) = \\frac{e^{i\\pi}}{2}\\left(|00\\rangle-|01\\rangle-|10\\rangle-|11\\rangle\\right) \\equiv \\frac{1}{2}\\left(|00\\rangle-|01\\rangle-|10\\rangle-|11\\rangle\\right)\n",
        "$$\n",
        "\n",
        "<!---\n",
        "Para obtener el resultado que buscamos, podemos usar que las puertas ZXZX aplicadas a un cúbit le cambián el signo:\n",
        "\n",
        "$$\n",
        "ZXZX|\\phi\\rangle = -|\\phi\\rangle\n",
        "$$\n",
        "\n",
        "Si se aplican estas puertas al cúbit más significativo, obtendremos el resultado:\n",
        "\n",
        "<br>\n",
        "<center><img src=\"https://drive.google.com/uc?export=view&id=1kER6ai8Qd0G5fijpk3cDvUAccDGLrrfH\" alt=\"Difusor R0: puertas ZXZX\" width=\"400\"  /></center>\n",
        "<br>\n",
        "\n",
        "\n",
        "$$\n",
        "\\frac{1}{2}\\left(|00\\rangle-|01\\rangle-|10\\rangle-|11\\rangle\\right)\n",
        "$$\n",
        "\n",
        "Se pueden simplificar las dos X consecutivas, por lo que la implementación de $R_0$ queda:\n",
        "\n",
        "\n",
        "<br>\n",
        "<center><img src=\"https://drive.google.com/uc?export=view&id=1kowaV2C_ykZ1xyxqR7bVoHmrND2m0SFt\" alt=\"Difusor R0: simplificado\" width=\"400\"  /></center>\n",
        "<br>\n",
        "--->"
      ],
      "metadata": {
        "id": "L2yXTpJj40Rb"
      },
      "id": "L2yXTpJj40Rb"
    },
    {
      "cell_type": "markdown",
      "id": "ed460c50",
      "metadata": {
        "id": "ed460c50"
      },
      "source": [
        "### Ejemplo 4\n",
        "\n",
        "Programa en Qiskit una función que devuelva una puerta $R_s$ para un número arbitrario de cúbits.\n",
        "\n",
        "Obtén la matriz unitaria asociada y comprueba que coincide con lo esperado."
      ]
    },
    {
      "cell_type": "code",
      "execution_count": 16,
      "id": "0e19dd5a",
      "metadata": {
        "id": "0e19dd5a",
        "outputId": "600898ed-102d-4899-c536-70964562611d",
        "colab": {
          "base_uri": "https://localhost:8080/",
          "height": 191
        }
      },
      "outputs": [
        {
          "output_type": "execute_result",
          "data": {
            "text/plain": [
              "<Figure size 705.35x200.667 with 1 Axes>"
            ],
            "image/png": "[encoded data removed]"
          },
          "metadata": {},
          "execution_count": 16
        }
      ],
      "source": [
        "from qiskit.circuit.library import MCMTGate, ZGate\n",
        "\n",
        "def difusor(nqubits):\n",
        "    qc = QuantumCircuit(nqubits)\n",
        "    # H-gates\n",
        "    qc.h(range(nqubits))\n",
        "\n",
        "    # X-gates\n",
        "    qc.x(range(nqubits))\n",
        "\n",
        "    # Implementa una puerta Z multicontrolada\n",
        "    # Una forma de hacer una Z multicontrolada con H y Toffoli\n",
        "    #qc.h(nqubits-1)\n",
        "    #qc.mct(list(range(nqubits-1)), nqubits-1)  # multi-controlled-toffoli\n",
        "    #qc.h(nqubits-1)\n",
        "    # Directamente con MCMT\n",
        "    qc = qc.compose(MCMTGate(ZGate(),nqubits-1, 1))\n",
        "\n",
        "    # X-gates\n",
        "    qc.x(range(nqubits))\n",
        "\n",
        "\n",
        "    # H-gates\n",
        "    qc.h(range(nqubits))\n",
        "\n",
        "    return qc\n",
        "\n",
        "qc_dif = difusor(2)\n",
        "\n",
        "qc_dif.save_unitary()\n",
        "\n",
        "qc_dif.draw('mpl')"
      ]
    },
    {
      "cell_type": "markdown",
      "id": "checked-lighting",
      "metadata": {
        "id": "checked-lighting"
      },
      "source": [
        "Juntando la inversión de fase con la amplificación de amplitud, el circuito que implementa el algoritmo de Grover queda:\n",
        "\n",
        "<!--img src=\"https://github.com/tarabelo/PIAC-apuntes/blob/main/images/Grover2.svg?raw=1\" alt=\"Grover completo\" style=\"width: 800px;\"/-->\n",
        "\n",
        "<br>\n",
        "<center><img src=\"https://drive.google.com/uc?export=view&id=1Jgx29CcPQelYV3WdFDMzHElXbmxeFHNH\" alt=\"Difusor R0: simplificado\" width=\"800\"  /></center>\n",
        "<br>\n"
      ]
    },
    {
      "cell_type": "markdown",
      "source": [
        "### Ejemplo 5\n",
        "\n",
        "Implementación en Qiskit del algoritmo de Grover para para un número arbitrario de cúbits."
      ],
      "metadata": {
        "id": "Rc7-r1o3aANa"
      },
      "id": "Rc7-r1o3aANa"
    },
    {
      "cell_type": "code",
      "source": [
        "def grover(n,s):\n",
        "    # Combina las dos partes de Grover\n",
        "    qc = QuantumCircuit(n)\n",
        "    # Inversor\n",
        "    qc = qc.compose(inversor(n,s))\n",
        "    qc.barrier()\n",
        "    # Difusor\n",
        "    qc = qc.compose(difusor(n))\n",
        "    qc.barrier()\n",
        "\n",
        "    return qc"
      ],
      "metadata": {
        "id": "bze9FP_zaLOy"
      },
      "id": "bze9FP_zaLOy",
      "execution_count": 27,
      "outputs": []
    },
    {
      "cell_type": "code",
      "source": [
        "n = 5\n",
        "s = [30]\n",
        "qc= QuantumCircuit(n)\n",
        "qc.h(range(n))\n",
        "qc.barrier()\n",
        "\n",
        "# Numero de iteraciones ideal = (\\pi/4)√(𝑁/\n",
        "niters = int((np.pi/4)*np.sqrt((1<<n)/len(s)))\n",
        "\n",
        "print(\"Numero de iteraciones ideal = {}\".format(niters))\n",
        "\n",
        "for iter in range(niters):\n",
        "    qc = qc.compose(grover(n,s))\n",
        "\n",
        "qc.save_statevector()\n",
        "qc.draw('mpl')"
      ],
      "metadata": {
        "id": "tommVzYuaqaH",
        "outputId": "af14d77e-02b6-4f23-bc3d-49739319cfe8",
        "colab": {
          "base_uri": "https://localhost:8080/",
          "height": 787
        }
      },
      "id": "tommVzYuaqaH",
      "execution_count": 30,
      "outputs": [
        {
          "output_type": "stream",
          "name": "stdout",
          "text": [
            "Numero de iteraciones ideal = 4\n"
          ]
        },
        {
          "output_type": "execute_result",
          "data": {
            "text/plain": [
              "<Figure size 2210.55x953.167 with 1 Axes>"
            ],
            "image/png": "[encoded data removed]"
          },
          "metadata": {},
          "execution_count": 30
        }
      ]
    },
    {
      "cell_type": "code",
      "source": [
        "obten_estado(qc)"
      ],
      "metadata": {
        "id": "o5txz5gyazEB",
        "outputId": "7bf4fc08-fab7-4815-f3a5-02a82c531eb7",
        "colab": {
          "base_uri": "https://localhost:8080/",
          "height": 79
        }
      },
      "id": "o5txz5gyazEB",
      "execution_count": 31,
      "outputs": [
        {
          "output_type": "display_data",
          "data": {
            "text/plain": [
              "<IPython.core.display.Latex object>"
            ],
            "text/latex": "$$|\\psi\\!\\!> = -0.0051358464 |00000\\rangle-0.0051358464 |00001\\rangle-0.0051358464 |00010\\rangle-0.0051358464 |00011\\rangle-0.0051358464 |00100\\rangle-0.0051358464 |00101\\rangle + \\ldots -0.0051358464 |11011\\rangle-0.0051358464 |11100\\rangle-0.0051358464 |11101\\rangle+0.9995910742 |11110\\rangle-0.0051358464 |11111\\rangle$$"
          },
          "metadata": {}
        }
      ]
    },
    {
      "cell_type": "code",
      "source": [
        "sim = AerSimulator()\n",
        "qc_obj = transpile(qc, sim)\n",
        "job_sim = sim.run(qc_obj, shots=100)\n",
        "result = job_sim.result()\n",
        "salida = result.get_counts()\n",
        "plot_histogram(salida, figsize=(10,5))"
      ],
      "metadata": {
        "id": "_XKaQfegayzH",
        "outputId": "ef872e65-f5b5-4ace-e06a-47f90d7977d1",
        "colab": {
          "base_uri": "https://localhost:8080/",
          "height": 507
        }
      },
      "id": "_XKaQfegayzH",
      "execution_count": 32,
      "outputs": [
        {
          "output_type": "execute_result",
          "data": {
            "text/plain": [
              "<Figure size 1000x500 with 1 Axes>"
            ],
            "image/png": "[encoded data removed]"
          },
          "metadata": {},
          "execution_count": 32
        }
      ]
    },
    {
      "cell_type": "markdown",
      "id": "18e8ebd3",
      "metadata": {
        "id": "18e8ebd3"
      },
      "source": [
        "# Interpretación geométrica del algoritmo de Grover<a name=\"geo\"></a>\n",
        "\n",
        "Sea $|s\\rangle$ el estado inicial del algoritmo de Grover (superposición completa) y sea $w$ el valor para el que $f(w)=1$. Podemos escribir el estado inicial como:\n",
        "\n",
        "$$\n",
        "|s\\rangle = \\frac{1}{\\sqrt{2^{n}}}{\\sum_{x=0}^{2^n-1}|x\\rangle} = \\frac{\\sum_{x\\ne w}|x\\rangle + |w\\rangle}{\\sqrt{2^{n}}} = \\sqrt{\\frac{2^n-1}{2^n}}\\frac{1}{\\sqrt{2^n-1}}\\sum_{x\\ne w}|x\\rangle + \\frac{1}{\\sqrt{2^n}}|w\\rangle\n",
        "$$\n",
        "\n",
        "Si denotamos:\n",
        "$$\n",
        "\\begin{aligned}\n",
        "|r\\rangle &= \\frac{1}{\\sqrt{2^n-1}}\\sum_{x\\ne x_i}|x\\rangle\\\\\n",
        "N &= 2^n\n",
        "\\end{aligned}\n",
        "$$\n",
        "\n",
        "podemos escribir este estado como:\n",
        "\n",
        "$$\n",
        "|s\\rangle = \\frac{1}{\\sqrt{N}}|w\\rangle + \\sqrt{\\frac{N-1}{N}}|r\\rangle\n",
        "$$\n",
        "\n",
        "Y como\n",
        "\n",
        "$$\n",
        "\\left(\\frac{1}{\\sqrt{N}}\\right)^2 + \\left(\\sqrt{\\frac{N-1}{N}}\\right)^2 = 1\n",
        "$$\n",
        "\n",
        "existe $\\theta$ tal que podemos escribir el estado como:\n",
        "\n",
        "$$\n",
        "|s\\rangle =\\sin\\theta|w\\rangle + \\cos\\theta|r\\rangle\n",
        "$$\n",
        "\n",
        "Podemos representar este estado así:\n",
        "\n",
        "<!--img src=\"https://github.com/tarabelo/PIAC-apuntes/blob/main/images/GeoGrover1.png?raw=1\" alt=\"Geo Grover 1\" style=\"width: 200px;\"/-->\n",
        "\n",
        "<br>\n",
        "<center><img src=\"https://drive.google.com/uc?export=view&id=1LTxkItpwErgsBT4-nRrwjON4AbQkgR4K\" alt=\"Geo Grover 1\" width=\"300\"  /></center>\n",
        "<br>\n",
        "\n",
        "\n",
        "Si a este estado le aplicamos la inversión de fase, $U_f$, se le cambia el signo a $|w\\rangle$:\n",
        "\n",
        "$$\n",
        "U_f|s\\rangle = -\\sin\\theta|w\\rangle + \\cos\\theta|r\\rangle\n",
        "$$\n",
        "\n",
        "que equivale a una reflexión con respecto al eje $|r\\rangle$:\n",
        "\n",
        "<!--img src=\"https://github.com/tarabelo/PIAC-apuntes/blob/main/images/GeoGrover2.png?raw=1\" alt=\"Geo Grover 2\" style=\"width: 200px;\"/-->\n",
        "\n",
        "<br>\n",
        "<center><img src=\"https://drive.google.com/uc?export=view&id=1fGJs667obKVpQ-fXI8ZZSJAPL3PqHn-R\" alt=\"Geo Grover 2\" width=\"300\"  /></center>\n",
        "<br>\n",
        "\n",
        "\n",
        "Ahora aplicamos la amplificación de amplitud. El difusor $R_s = 2|s\\rangle\\langle s| -I$ mantiene el estado $|s\\rangle$ pero invierte cualquier estado ortogonal a $|s\\rangle$:\n",
        "\n",
        "$$\n",
        "\\begin{aligned}\n",
        "R_s|s\\rangle &= 2|s\\rangle\\langle s|s\\rangle - |s\\rangle = 2|s\\rangle - |s\\rangle = |s\\rangle\\\\\n",
        "R_s|s^\\perp\\rangle &= 2|s\\rangle\\langle s|s^\\perp\\rangle - |s^\\perp\\rangle = -|s^\\perp\\rangle\\\\\n",
        "\\end{aligned}\n",
        "$$\n",
        "\n",
        "ya que $\\langle s|s\\rangle=1$ y $\\langle s|s^\\perp\\rangle=0$. Es decir, $R_s$ produce una reflexión sobre $|s\\rangle$.\n",
        "\n",
        "Si aplicamos $R_s$ al estado $U_f|s\\rangle$ tendremos el estado reflejado sobre $|s\\rangle$:\n",
        "\n",
        "<!--img src=\"https://github.com/tarabelo/PIAC-apuntes/blob/main/images/GeoGrover3.png?raw=1\" alt=\"Geo Grover 3\" style=\"width: 200px;\"/-->\n",
        "\n",
        "<br>\n",
        "<center><img src=\"https://drive.google.com/uc?export=view&id=1nP_8pEpK2DNPMEF-5QFpaJJqrI0wscW3\" alt=\"Geo Grover 3\" width=\"300\"  /></center>\n",
        "<br>\n",
        "\n",
        "Si aplicamos de nuevo las dos reflexiones $U_f$ y $R_s$ tendremos:\n",
        "\n",
        "<!--img src=\"https://github.com/tarabelo/PIAC-apuntes/blob/main/images/GeoGrover4.png?raw=1\" alt=\"Geo Grover 4\" style=\"width: 200px;\"/-->\n",
        "\n",
        "<br>\n",
        "<center><img src=\"https://drive.google.com/uc?export=view&id=1lvjeZmrnYT7eSPFr2YpuQLEKZTy_rKsI\" alt=\"Geo Grover 4\" width=\"300\"  /></center>\n",
        "<br>\n",
        "\n",
        "Si continuamos aplicando las reflexiones, el estado se irá acercando a $|w\\rangle$ que es la solución buscada.\n",
        "\n",
        "**¿Cuándo se alcanza $|w\\rangle$?**\n",
        "\n",
        "Cada vez que aplicamos las reflexiones, el estado avanza un ángulo $2\\theta$ con respecto a $|s\\rangle$. Sea $t$ el número de reflexiones para llegar a $|w\\rangle$:\n",
        "\n",
        "$$\n",
        "\\begin{aligned}\n",
        "\\theta + 2\\theta\\cdot t = \\frac{\\pi}{2} \\Rightarrow t = \\frac{\\pi}{4\\theta} - \\frac{1}{2}\n",
        "\\end{aligned}\n",
        "$$\n",
        "\n",
        "Como $\\sin\\theta = \\frac{1}{\\sqrt{N}}$, si $N$ es grande:\n",
        "\n",
        "$$\n",
        "\\theta = \\sin^{-1}\\left(\\frac{1}{\\sqrt{N}}\\right) \\approx \\frac{1}{\\sqrt{N}}\n",
        "$$\n",
        "\n",
        "Por lo que:\n",
        "\n",
        "$$\n",
        "t \\approx \\frac{\\pi}{4}\\sqrt{N} - \\frac{1}{2} \\approx \\left\\lfloor\\frac{\\pi}{4}\\sqrt{N}\\right\\rfloor\n",
        "$$\n",
        "\n",
        "Por lo que el número de repeticiones del algoritmo es $\\mathcal{O}(\\sqrt{2^n})$\n",
        "\n",
        "Si hay $k$ elementos marcados, con $k\\ll N$, el número óptimo de repeticiones es:\n",
        "\n",
        "$$\n",
        "\\left\\lfloor\\frac{\\pi}{4}\\sqrt{\\frac{N}{k}}\\right\\rfloor\n",
        "$$"
      ]
    },
    {
      "cell_type": "code",
      "execution_count": null,
      "id": "bfe0e09a",
      "metadata": {
        "id": "bfe0e09a"
      },
      "outputs": [],
      "source": []
    }
  ],
  "metadata": {
    "kernelspec": {
      "display_name": "Python 3 (ipykernel)",
      "language": "python",
      "name": "python3"
    },
    "language_info": {
      "codemirror_mode": {
        "name": "ipython",
        "version": 3
      },
      "file_extension": ".py",
      "mimetype": "text/x-python",
      "name": "python",
      "nbconvert_exporter": "python",
      "pygments_lexer": "ipython3",
      "version": "3.12.2"
    },
    "colab": {
      "provenance": [],
      "include_colab_link": true
    }
  },
  "nbformat": 4,
  "nbformat_minor": 5
}