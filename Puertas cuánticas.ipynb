{
  "cells": [
    {
      "cell_type": "markdown",
      "metadata": {
        "id": "view-in-github",
        "colab_type": "text"
      },
      "source": [
        "<a href=\"https://colab.research.google.com/github/tarabelo/2025-Curso-UEX/blob/main/Puertas%20cu%C3%A1nticas.ipynb\" target=\"_parent\"><img src=\"https://colab.research.google.com/assets/colab-badge.svg\" alt=\"Open In Colab\"/></a>"
      ]
    },
    {
      "cell_type": "markdown",
      "id": "closed-skill",
      "metadata": {
        "id": "closed-skill"
      },
      "source": [
        "#**Puertas clásicas vs cuánticas**\n",
        "\n",
        "Contenidos\n",
        "\n",
        "1. [Puertas clásicas como matrices](#clasicas)\n",
        "2. [Computación reversible](#reversible)\n",
        "3. [Puertas cuánticas](#cuanticas)"
      ]
    },
    {
      "cell_type": "markdown",
      "id": "logical-mason",
      "metadata": {
        "id": "logical-mason"
      },
      "source": [
        "Las puertas clásicas (NOT, AND, OR, NAN, EXOR) actúan sobre 1 (NOT) o 2 bits.\n",
        "\n",
        "Las principales puertas cuánticas también operan sobre 1 o 2 cúbits, manteniendo las restricciones impuestas por la física (reversibilidad)."
      ]
    },
    {
      "cell_type": "markdown",
      "id": "criminal-worship",
      "metadata": {
        "id": "criminal-worship"
      },
      "source": [
        "<a name=\"clasicas\"></a>\n",
        "## Puertas clásicas como matrices\n",
        "\n",
        "Podemos representar las puertas lógicas clásicas como matrices u operadores, tales que aplicados a un número binario obtienen un número binario.\n",
        "\n",
        "Por ejemplo:\n",
        "\n",
        "$$\n",
        "\\begin{aligned}\n",
        "\\text{NOT} &= \\begin{bmatrix}0 & 1\\\\ 1 & 0\\end{bmatrix}\\\\[10pt]\n",
        "\\text{AND} &= \\begin{bmatrix}1 & 1 & 1 & 0\\\\ 0 & 0 & 0 & 1\\end{bmatrix}\\\\[10pt]\n",
        "\\text{OR} &= \\begin{bmatrix}1 & 0 & 0 & 0\\\\ 0 & 1 & 1 & 1\\end{bmatrix}\\\\[10pt]\n",
        "\\end{aligned}\n",
        "$$\n",
        "\n",
        "Ejemplos:\n",
        "\n",
        "$$\n",
        "\\begin{aligned}\n",
        "\\text{NOT}|0\\rangle &= \\begin{bmatrix}0 & 1\\\\ 1 & 0\\end{bmatrix}\n",
        "\\begin{bmatrix} 1\\\\ 0\\end{bmatrix} = \\begin{bmatrix} 0\\\\ 1\\end{bmatrix} = |1\\rangle\n",
        "\\\\[10pt]\n",
        "\\text{AND}|11\\rangle &= \\begin{bmatrix}1 & 1 & 1 & 0\\\\ 0 & 0 & 0 & 1\\end{bmatrix}\n",
        "\\begin{bmatrix} 0\\\\ 0\\\\0\\\\1\\end{bmatrix} = \\begin{bmatrix}0\\\\1\\end{bmatrix} = |1\\rangle \\\\[10pt]\n",
        "\\text{AND}|01\\rangle &= \\begin{bmatrix}1 & 1 & 1 & 0\\\\ 1 & 0 & 0 & 1\\end{bmatrix}\n",
        "\\begin{bmatrix} 0\\\\ 1\\\\0\\\\0\\end{bmatrix} = \\begin{bmatrix} 1\\\\ 0\\end{bmatrix} = |0\\rangle \\\\[10pt]\n",
        "\\text{OR}|10\\rangle &= \\begin{bmatrix}1 & 0 & 0 & 0\\\\ 0 & 1 & 1 & 1\\end{bmatrix}\n",
        "\\begin{bmatrix} 0\\\\ 0\\\\1\\\\0\\end{bmatrix} = \\begin{bmatrix} 0\\\\1\\end{bmatrix} = |1\\rangle \\\\[10pt]\n",
        "\\text{OR}|11\\rangle &= \\begin{bmatrix}1 & 0 & 0 & 0\\\\ 0 & 1 & 1 & 1\\end{bmatrix}\n",
        "\\begin{bmatrix} 0\\\\ 0\\\\0\\\\1\\end{bmatrix} = \\begin{bmatrix} 0\\\\1\\end{bmatrix} = |1\\rangle\\\\[10pt]\n",
        "\\end{aligned}\n",
        "$$\n",
        "\n",
        "Podemos obtener la representación de un conjunto de puertas mediante operaciones de matrices. Por ejemplo:\n",
        "\n",
        "<center><img src=\"https://drive.google.com/uc?export=view&id=1ZwHOf-211JlZGff4w8GhFTatdJBtYrUC\" alt=\"Circuito con puertas clasicas\" width=\"300\"  /></center>\n",
        "\n",
        "La matriz equivalente a este circuito es:\n",
        "\n",
        "$$\n",
        "\\text{OR}\\cdot (\\text{NOT}\\otimes \\text{AND}) =\n",
        "\\begin{bmatrix}1 & 0 & 0 & 0\\\\ 0 & 1 & 1 & 1\\end{bmatrix}\n",
        "\\left(\n",
        "\\begin{bmatrix}0 & 1\\\\ 1 & 0\\end{bmatrix}\\otimes\n",
        "\\begin{bmatrix}1 & 1 & 1 & 0\\\\ 0 & 0 & 0 & 1\\end{bmatrix}\n",
        "\\right) = \\\\[10pt]\n",
        "\\begin{bmatrix}1 & 0 & 0 & 0\\\\ 0 & 1 & 1 & 1\\end{bmatrix}\n",
        "\\begin{bmatrix}\n",
        "0 & 0 & 0 & 0 & 1 & 1 & 1 & 0\\\\\n",
        "0 & 0 & 0 & 0 & 0 & 0 & 0 & 1\\\\\n",
        "1 & 1 & 1 & 0 & 0 & 0 & 0 & 0\\\\\n",
        "0 & 0 & 0 & 1 & 0 & 0 & 0 & 0\n",
        "\\end{bmatrix} =\n",
        "\\begin{bmatrix}\n",
        "0 & 0 & 0 & 0 & 1 & 1 & 1 & 0\\\\\n",
        "1 & 1 & 1 & 1 & 0 & 0 & 0 & 1\n",
        "\\end{bmatrix}\n",
        "$$\n",
        "\n",
        "Es decir, las puertas en paralelo se combinan usando el producto tensor y en serie el producto matricial."
      ]
    },
    {
      "cell_type": "markdown",
      "id": "local-trick",
      "metadata": {
        "id": "local-trick"
      },
      "source": [
        "<a name=\"reversible\"></a>\n",
        "## Computación reversible\n",
        "\n",
        "Las puertas clásicas, exceptuando la puerta NOT, son no-reversibles: no es posible obtener la entrada a partir de los valores de salida.\n",
        "\n",
        "También puede verse en que las matrices, excepto la NOT, no son invertibles.\n",
        "\n",
        "El modelo de [computación reversible](https://en.wikipedia.org/wiki/Reversible_computing) substituye las puertas clásicas por sus equivalentes reversibles:\n",
        "\n",
        "<center><img src=\"https://drive.google.com/uc?export=view&id=1kZGt2hLqpdlg6YTOfy9xOTWb3y9UX_FV\" alt=\"Puertas reversibles\" width=\"500\"  /></center>\n",
        "\n",
        "Al bit auxiliar en la AND y NAND se le llama *bit ancilla*.\n",
        "\n",
        "La [puerta Toffoli](https://en.wikipedia.org/wiki/Toffoli_gate) es universal: cualquier circuito booleano se puede expresar usando solo puertas Toffoli.\n",
        "\n",
        "Otra puerta universal reversible es la [puerta Fredkin](https://en.wikipedia.org/wiki/Fredkin_gate) o Controlled-SWAP:\n",
        "\n",
        "<center><img src=\"https://drive.google.com/uc?export=view&id=1ySJHdoVX3aTAc7DPSu9WsNRY8ehay0Wv\" alt=\"Puerta Fredkin\" width=\"100\"  /></center>\n",
        "\n",
        "La matriz de una puerta CNOT es:\n",
        "\n",
        "$$ CNOT =\n",
        "\\begin{bmatrix}\n",
        "1 & 0 & 0 & 0 \\\\\n",
        "0 & 0 & 0 & 1 \\\\\n",
        "0 & 0 & 1 & 0 \\\\\n",
        "0 & 1 & 0 & 0\n",
        "\\end{bmatrix}\n",
        "$$\n",
        "\n",
        "Así, si $|BA\\rangle = |01\\rangle$:\n",
        "\n",
        "$$ CNOT|BA\\rangle = CNOT|01\\rangle =\n",
        "\\begin{bmatrix}\n",
        "1 & 0 & 0 & 0 \\\\\n",
        "0 & 0 & 0 & 1 \\\\\n",
        "0 & 0 & 1 & 0 \\\\\n",
        "0 & 1 & 0 & 0\n",
        "\\end{bmatrix}\n",
        "\\begin{bmatrix}0 \\\\1\\\\0\\\\0 \\end{bmatrix} = \\begin{bmatrix}0 \\\\ 0 \\\\ 0 \\\\ 1 \\end{bmatrix} = |11\\rangle\n",
        "$$\n",
        "\n",
        "Se puede comprobar que $CNOT = CNOT^{-1}$\n",
        "\n",
        "### Convertir puertas irreversibles en reversibles\n",
        "\n",
        "Cualquier puerta que implemente una funcón $f(x)$, con $x\\in \\{0,1\\}^n$ puede convertirse en reversible usando bits ancilla:\n",
        "\n",
        "<center><img src=\"https://drive.google.com/uc?export=view&id=1ckdPqv6_TpfSsTsqwCdAb7bPLpg0E7RA\" alt=\"Puertas reversible\" width=\"300\"  /></center>\n",
        "\n"
      ]
    },
    {
      "cell_type": "markdown",
      "id": "hawaiian-blond",
      "metadata": {
        "id": "hawaiian-blond"
      },
      "source": [
        "<a name=\"cuanticas\"></a>\n",
        "## Puertas cuánticas\n",
        "\n",
        "Debido al requisito de reversibilidad de las operaciones con cúbits, no es posible usar las puertas clásicas, exceptuando la NOT, pero sí es posible usar sus versiones reversibles.\n",
        "\n",
        "Las puertas que actúan sobre cúbits tienen, además, que conservar la norma del vector. Puertas que cumplan ambas condiciones se pueden representar mediante matrices unitarias.\n",
        "\n",
        "Una matriz unitaria $U$ que actúa sobre un estado cuántico de $n$ cúbits es una matriz $2^n\\times 2^n$ que verifica  $U^\\dagger U = UU^\\dagger = I$, siendo $U^\\dagger$ la conjugada transpuesta de $U$.\n",
        "\n",
        "La inversa de $U$ por lo tanto es $U^{-1} = U^\\dagger$\n",
        "\n",
        "La puerta se aplica al estado mediante un producto matriz-vector:\n",
        "$$\n",
        "|\\Phi\\rangle = U|\\psi\\rangle = \\begin{bmatrix}u_{00} & u_{01} \\\\ u_{10} & u_{11} \\end{bmatrix}\\begin{bmatrix}a_{0} \\\\ a_{1}\\end{bmatrix}\n",
        "$$"
      ]
    },
    {
      "cell_type": "markdown",
      "source": [
        "\n",
        "\n",
        "---\n",
        "\n",
        "\n",
        "\n",
        "---\n",
        "\n",
        "\n",
        "\n",
        "---\n",
        "\n"
      ],
      "metadata": {
        "id": "FHtc5E1C5mi0"
      },
      "id": "FHtc5E1C5mi0"
    }
  ],
  "metadata": {
    "kernelspec": {
      "display_name": "Python 3",
      "name": "python3"
    },
    "language_info": {
      "codemirror_mode": {
        "name": "ipython",
        "version": 3
      },
      "file_extension": ".py",
      "mimetype": "text/x-python",
      "name": "python",
      "nbconvert_exporter": "python",
      "pygments_lexer": "ipython3",
      "version": "3.10.10"
    },
    "colab": {
      "provenance": [],
      "cell_execution_strategy": "setup",
      "toc_visible": true,
      "include_colab_link": true
    }
  },
  "nbformat": 4,
  "nbformat_minor": 5
}