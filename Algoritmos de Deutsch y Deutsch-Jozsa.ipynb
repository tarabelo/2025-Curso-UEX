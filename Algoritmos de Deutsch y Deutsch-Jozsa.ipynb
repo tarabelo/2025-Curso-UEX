{
  "cells": [
    {
      "cell_type": "markdown",
      "metadata": {
        "id": "view-in-github",
        "colab_type": "text"
      },
      "source": [
        "<a href=\"https://colab.research.google.com/github/tarabelo/2025-Curso-UEX/blob/main/Algoritmos%20de%20Deutsch%20y%20Deutsch-Jozsa.ipynb\" target=\"_parent\"><img src=\"https://colab.research.google.com/assets/colab-badge.svg\" alt=\"Open In Colab\"/></a>"
      ]
    },
    {
      "cell_type": "code",
      "source": [
        "# Instalamos qiskit en el notebook\n",
        "!pip install qiskit qiskit-aer pylatexenc"
      ],
      "metadata": {
        "id": "T0gD2RamevFL"
      },
      "id": "T0gD2RamevFL",
      "execution_count": null,
      "outputs": []
    },
    {
      "cell_type": "code",
      "execution_count": null,
      "id": "formal-celebration",
      "metadata": {
        "id": "formal-celebration"
      },
      "outputs": [],
      "source": [
        "import numpy as np\n",
        "from math import sqrt\n",
        "\n",
        "# importing Qiskit\n",
        "from qiskit import QuantumCircuit, QuantumRegister, ClassicalRegister, transpile\n",
        "from qiskit.quantum_info import Statevector\n",
        "from qiskit_aer import AerSimulator\n",
        "# import basic plot tools\n",
        "from qiskit.visualization import plot_histogram\n",
        "\n",
        "# Funciones auxiliares\n",
        "\n",
        "# Función para simular y mostrar el vector de estado\n",
        "def obten_estado(qcirc, etiqueta=\"|\\psi\\!\\!> = \", bloch=False):\n",
        "    # Usamos el simulador de vector de estado\n",
        "    # https://qiskit.github.io/qiskit-aer/stubs/qiskit_aer.AerSimulator.html\n",
        "    sim = AerSimulator(method='statevector')\n",
        "    qc_obj = transpile(qcirc, sim)\n",
        "    result = sim.run(qc_obj).result()\n",
        "    estado = result.get_statevector()\n",
        "    display(estado.draw('latex', prefix=etiqueta))\n",
        "    if bloch:\n",
        "      display(estado.draw('bloch'))\n",
        "\n",
        "# Funcion para obtener y mostrar la matriz unitaria\n",
        "def obten_unitaria(qcirc, etiqueta):\n",
        "    # Usamos el simulador de matriz unitaria\n",
        "    sim_u = AerSimulator(method='unitary')\n",
        "    qc_obj = transpile(qcirc, sim_u)\n",
        "    result = sim_u.run(qcirc).result()\n",
        "    unitary = result.get_unitary(qcirc)\n",
        "    display(unitary.draw('latex', prefix=etiqueta))"
      ]
    },
    {
      "cell_type": "code",
      "source": [
        "# Oráculos creados en el apartado anterior\n",
        "# Oráculo para f0\n",
        "def f0_oraculo():\n",
        "    \"\"\"\n",
        "    Define un oraculo para la funcion f0\n",
        "        return: circuito de 2 cúbit en forma de puerta\n",
        "    \"\"\"\n",
        "    x = QuantumRegister(1, name=\"|x\\\\rangle\")\n",
        "    y = QuantumRegister(1, name=\"|y\\\\rangle\")\n",
        "    qc = QuantumCircuit(x,y)\n",
        "\n",
        "    # Aplica CNOT, primer parámetro target, segundo control\n",
        "    qc.cx(x,y)\n",
        "\n",
        "    oraculo = qc.to_gate()\n",
        "    oraculo.name = \"$U_{f_0}$\"\n",
        "    return(oraculo)\n",
        "\n",
        "# Oráculo para f1\n",
        "def f1_oraculo():\n",
        "    \"\"\"\n",
        "    Define un oraculo para la funcion f1\n",
        "        return: circuito de 2 cúbit en forma de puerta\n",
        "    \"\"\"\n",
        "    x = QuantumRegister(1, name=\"|x\\\\rangle\")\n",
        "    y = QuantumRegister(1, name=\"|y\\\\rangle\")\n",
        "    qc = QuantumCircuit(x,y)\n",
        "\n",
        "    # Invierte el cúbit x\n",
        "    qc.x(x)\n",
        "    # Aplica CNOT, primer parámetro control, segundo target\n",
        "    qc.cx(x,y)\n",
        "    # recupera el cúbit x\n",
        "    qc.x(x)\n",
        "\n",
        "    oraculo = qc.to_gate()\n",
        "    oraculo.name = \"$U_{f_1}$\"\n",
        "    return(oraculo)\n",
        "\n",
        "# Oráculo para f2\n",
        "def f2_oraculo():\n",
        "    \"\"\"\n",
        "    Define un oraculo para la funcion f2\n",
        "        return: circuito de 2 cúbit en forma de puerta\n",
        "    \"\"\"\n",
        "    x = QuantumRegister(1, name=\"|x\\\\rangle\")\n",
        "    y = QuantumRegister(1, name=\"|y\\\\rangle\")\n",
        "    qc = QuantumCircuit(x,y)\n",
        "\n",
        "    # Función identidad\n",
        "\n",
        "    oraculo = qc.to_gate()\n",
        "    oraculo.name = \"$U_{f_2}$\"\n",
        "    return(oraculo)\n",
        "\n",
        "# Oráculo para f3\n",
        "def f3_oraculo():\n",
        "    \"\"\"\n",
        "    Define un oraculo para la funcion f3\n",
        "        return: circuito de 2 cúbit en forma de puerta\n",
        "    \"\"\"\n",
        "    x = QuantumRegister(1, name=\"|x\\\\rangle\")\n",
        "    y = QuantumRegister(1, name=\"|y\\\\rangle\")\n",
        "    qc = QuantumCircuit(x,y)\n",
        "\n",
        "    # Invierte el cúbit y\n",
        "    qc.x(y)\n",
        "\n",
        "    oraculo = qc.to_gate()\n",
        "    oraculo.name = \"$U_{f_3}$\"\n",
        "    return(oraculo)"
      ],
      "metadata": {
        "id": "mef892EC54sf"
      },
      "id": "mef892EC54sf",
      "execution_count": null,
      "outputs": []
    },
    {
      "cell_type": "markdown",
      "id": "substantial-medline",
      "metadata": {
        "id": "substantial-medline"
      },
      "source": [
        "### Contenidos\n",
        "\n",
        "1. [Algoritmo de Deutsch](#deutsch)\n",
        "3. [Algoritmo de Deutsch-Jozsa](#dj)\n",
        "\n"
      ]
    },
    {
      "cell_type": "markdown",
      "id": "fbcf6628",
      "metadata": {
        "id": "fbcf6628"
      },
      "source": [
        "-------------------------------\n",
        "-------------------------------\n",
        "-------------------------------"
      ]
    },
    {
      "cell_type": "markdown",
      "id": "built-provision",
      "metadata": {
        "id": "built-provision"
      },
      "source": [
        "# Algoritmo de Deutsch <a name=\"deutsch\"></a>\n",
        "\n",
        "Las funciones $f(x): \\{0,1\\}\\rightarrow\\{0,1\\}$ se denominan:\n",
        "\n",
        "- Constantes: si $f(0)=f(1)$\n",
        "- Balanceadas: si $f(0)\\ne f(1)$\n",
        "\n",
        "De las 4 funciones anteriores, $f_0$ y $f_1$ son balanceadas mientras que $f_2$ y $f_3$ son constantes.\n",
        "\n",
        "Dada una función $f(x): \\{0,1\\}\\rightarrow\\{0,1\\}$ desconocida, un algoritmo clásico necesita 2 llamadas a $f$ para determinar si es constante o balanceada.\n",
        "\n",
        "El **algoritmo cuántico de Deutsch** puede determinarlo con una sola llamada a $f$.\n",
        "\n",
        "Partimos del circuito siguiente:\n",
        "\n",
        "<center><img src=\"https://drive.google.com/uc?export=view&id=1npbfKEwOqZA1EOUl8JeoytuQ7e0b7v1C\" alt=\"Deutsch\" width=\"800\"  /></center>"
      ]
    },
    {
      "cell_type": "markdown",
      "id": "thirty-madrid",
      "metadata": {
        "id": "thirty-madrid"
      },
      "source": [
        "Estado después de la puerta X:\n",
        "$$\n",
        "|\\psi_0\\rangle = |10\\rangle\n",
        "$$\n",
        "\n",
        "Estado despues de las H:\n",
        "$$\n",
        "|\\psi_1\\rangle = |-+\\rangle = \\frac{|0\\rangle - |1\\rangle}{\\sqrt{2}}\\otimes \\frac{|0\\rangle + |1\\rangle}{\\sqrt{2}} = |y\\rangle \\otimes|x\\rangle\n",
        "$$\n",
        "\n",
        "Y se tiene que:\n",
        "\n",
        "$$\n",
        "|y\\oplus f(x)\\rangle = \\frac{|0\\rangle - |1\\rangle}{\\sqrt{2}}\\oplus f(x) = \\frac{|0\\oplus f(x)\\rangle - |1\\oplus f(x)\\rangle}{\\sqrt{2}} =\n",
        "\\begin{cases}\n",
        "\\frac{|0\\rangle - |1\\rangle}{\\sqrt{2}}, & \\text{si } f(x) = 0\\\\\n",
        "\\frac{|1\\rangle - |0\\rangle}{\\sqrt{2}}, & \\text{si } f(x) = 1\n",
        "\\end{cases}\n",
        "$$\n",
        "\n",
        "por lo que podemos escribir:\n",
        "$$\n",
        "|y\\oplus f(x)\\rangle = (-1)^{f(x)}\\frac{|0\\rangle - |1\\rangle}{\\sqrt{2}}\n",
        "$$\n",
        "\n",
        "De aquí se tiene que:\n",
        "\n",
        "$$\n",
        "|\\psi_2\\rangle = \\frac{1}{\\sqrt{2}}(-1)^{f(x)} (|0\\rangle - |1\\rangle)\\otimes |x\\rangle =\n",
        "\\frac{1}{\\sqrt{2}} (|0\\rangle - |1\\rangle)\\otimes (-1)^{f(x)}|x\\rangle\n",
        "$$\n",
        "Y podemos escribir:\n",
        "$$\n",
        "(-1)^{f(x)}|x\\rangle = |(-1)^{f(x)}x\\rangle =\n",
        "\\frac{(-1)^{f(0)}|0\\rangle + (-1)^{f(1)}|1\\rangle}{\\sqrt{2}}\n",
        "$$\n",
        "\n",
        "Por lo tanto, el estado $|\\psi_2\\rangle$ queda:\n",
        "$$\n",
        "|\\psi_2\\rangle =\n",
        "\\frac{|0\\rangle - |1\\rangle}{\\sqrt{2}}\\otimes\n",
        "\\frac{(-1)^{f(0)}|0\\rangle + (-1)^{f(1)}|1\\rangle}{\\sqrt{2}} =\n",
        "\\begin{cases}\n",
        "\\pm\\left[\\frac{|0\\rangle - |1\\rangle}{\\sqrt{2}}\\right] \\otimes \\left[\\frac{|0\\rangle + |1\\rangle}{\\sqrt{2}}\\right], & \\text{si } f(0) = f(1)\\\\\\mbox{}\\\\\n",
        "\\pm\\left[\\frac{|0\\rangle - |1\\rangle}{\\sqrt{2}}\\right] \\otimes  \\left[\\frac{|0\\rangle - |1\\rangle}{\\sqrt{2}}\\right], & \\text{si } f(0) \\neq f(1)\n",
        "\\end{cases}\n",
        "$$\n",
        "\n",
        "Al aplicar la última `H`:\n",
        "\n",
        "$$\n",
        "|\\psi_3\\rangle =\n",
        "\\begin{cases}\n",
        "\\pm\\frac{|0\\rangle - |1\\rangle}{\\sqrt{2}} \\otimes |0\\rangle, & \\text{si } f(0) = f(1)\\\\\\mbox{}\\\\\n",
        "\\pm\\frac{|0\\rangle - |1\\rangle}{\\sqrt{2}} \\otimes |1\\rangle, & \\text{si } f(0) \\neq f(1)\n",
        "\\end{cases}\n",
        "$$\n",
        "\n",
        "Midiendo el cúbit de arriba vamos a obtener, con total certeza, un $0$ si $f(0)=f(1)$ o un $1$ si $f(0)\\ne f(1)$, con una sola evaluacion de $f(x)$.\n"
      ]
    },
    {
      "cell_type": "markdown",
      "id": "46042999",
      "metadata": {
        "id": "46042999"
      },
      "source": [
        "### Ejercicio\n",
        "\n",
        "Implementa un circuito en Qiskit para probar el algoritmo de Deutsch con los oráculos definidos para las funciones $f_{0-3}$. Comprueba que es capaz de determinar si la función es constante o balanceada."
      ]
    },
    {
      "cell_type": "code",
      "execution_count": null,
      "id": "b5f816b2",
      "metadata": {
        "id": "b5f816b2"
      },
      "outputs": [],
      "source": [
        "# Empieza creando un circuito a partir de un oráculo con un bit de medida\n",
        "def deutsch_qc(oraculo):\n",
        "    x = QuantumRegister(1, name=\"|x\\\\rangle\")\n",
        "    y = QuantumRegister(1, name=\"|y\\\\rangle\")\n",
        "    meas = ClassicalRegister(1, name=\"Medida\")\n",
        "    qc = QuantumCircuit(x,y,meas)\n",
        "\n",
        "    # TODO: Añade las puertas iniciales\n",
        "\n",
        "\n",
        "    # TODO: Añade el oraculo\n",
        "\n",
        "\n",
        "    # TODO: Añade la última puerta H\n",
        "\n",
        "\n",
        "    # TODO: Añade la medida\n",
        "\n",
        "\n",
        "    # Devuelve el circuito\n",
        "    return qc"
      ]
    },
    {
      "cell_type": "code",
      "execution_count": null,
      "id": "91bb2e02",
      "metadata": {
        "id": "91bb2e02"
      },
      "outputs": [],
      "source": [
        "# Probamos con f0\n",
        "qc = deutsch_qc(f0_oraculo)\n",
        "qc.draw('mpl')"
      ]
    },
    {
      "cell_type": "code",
      "execution_count": null,
      "id": "b1786c90",
      "metadata": {
        "id": "b1786c90"
      },
      "outputs": [],
      "source": [
        "# Hacemos la simulacion\n",
        "sim = AerSimulator(method='automatic')\n",
        "qc_obj = transpile(qc, sim)\n",
        "result = sim.run(qc_obj, shots=1024).result()\n",
        "plot_histogram(result.get_counts())"
      ]
    },
    {
      "cell_type": "code",
      "execution_count": null,
      "id": "991acfb6",
      "metadata": {
        "id": "991acfb6"
      },
      "outputs": [],
      "source": [
        "# TODO: Probar con las otras 3 funciones\n",
        "sim = AerSimulator(method='automatic')\n",
        "for f in [f1_oraculo, f2_oraculo, f3_oraculo]:\n",
        "    qc = deutsch_qc(f)\n",
        "    # hacemos la simulacion\n",
        "    qc_obj = transpile(qc, sim)\n",
        "    result = sim.run(qc_obj, shots=1024).result()\n",
        "    display(plot_histogram(result.get_counts()))"
      ]
    },
    {
      "cell_type": "markdown",
      "source": [
        "\n",
        "\n",
        "---\n",
        "\n",
        "\n",
        "\n",
        "---\n",
        "\n",
        "\n",
        "\n",
        "---\n",
        "\n"
      ],
      "metadata": {
        "id": "tzvUrtKRtPz4"
      },
      "id": "tzvUrtKRtPz4"
    },
    {
      "cell_type": "markdown",
      "id": "marine-mechanism",
      "metadata": {
        "id": "marine-mechanism"
      },
      "source": [
        "# Algoritmo de Deutsch-Jozsa <a name=\"dj\"></a>\n",
        "\n",
        "Es una generalización a $n$ bits del anterior. Dada una función (oráculo) $f(\\{x_{n-1},x_{n-2},\\ldots,x_1,x_{0}\\}) \\rightarrow \\{0,1\\}$, que es, o bien, _balanceada_, o bien, _constante_, determinar el tipo:\n",
        "\n",
        "- Función constante: la salida de $f(x)$ es, o bien, 0, o bien, 1 $\\forall x$\n",
        "- Función balanceada: devuelve 0 para la mitad de las entradas y 1 para la otra mitad\n",
        "\n",
        "**Solución clásica**\n",
        "\n",
        "Un algoritmo clásico necesita efectuar en el mejor caso $2$ y en el peor $2^{n-1}+1$ evaluaciones de $f(x)$, por lo que su complejidad es exponencial $\\mathcal{O}(2^n)$.\n",
        "\n",
        "**Solución cuántica**\n",
        "\n",
        "El algoritmo cuántico ([D. Deutsch and R. Jozsa, 1992](https://doi.org/10.1098%2Frspa.1992.0167)) solo necesita una evaluación del oráculo $f(x)$ (ganancia exponencial).\n",
        "\n",
        "El circuito usado es:\n",
        "\n",
        "<center><img src=\"https://drive.google.com/uc?export=view&id=1SRf5wmYaN4NmLgjT7MXm0v4XsUEIASQW\" alt=\"Deutsch-Jozsa\" width=\"800\"  /></center>\n",
        "\n",
        "Pasos:\n",
        "\n",
        "<ol>\n",
        "<li>\n",
        "Estado inicial:\n",
        "        \n",
        "\n",
        "$$\\vert \\psi_0 \\rangle = \\vert 1\\rangle \\vert0\\rangle^{\\otimes n} $$\n",
        "</li>\n",
        "    \n",
        "<li>\n",
        "Después de aplicar las primeras puertas H:\n",
        "$$\\vert \\psi_1 \\rangle = \\frac{1}{\\sqrt{2}}\\left(|0\\rangle - |1 \\rangle \\right)\\otimes \\frac{1}{\\sqrt{2^{n}}}\\sum_{x=0}^{2^n-1} \\vert x\\rangle =\n",
        "\\frac{1}{\\sqrt{2^{n+1}}}\\sum_{x=0}^{2^n-1} \\left(|0\\rangle - |1 \\rangle \\right)\\vert x\\rangle $$\n",
        "</li>\n",
        "<p>\n",
        "<li>\n",
        "Aplicamos $U_f$ a $\\vert y\\rangle \\vert x\\rangle$ para obtener $\\vert y \\oplus f(x)\\rangle\\vert x\\rangle$, recordando que $y\\oplus f(x) = \\tfrac{1}{\\sqrt{2}} (-1)^{f(x)}(|0\\rangle - |1\\rangle)$:\n",
        "\n",
        "$$\\vert\\psi_2\\rangle  = \\frac{1}{\\sqrt{2^{n+1}}}\\sum_{x=0}^{2^n-1}(-1)^{f(x)}(|0\\rangle - |1\\rangle)|x\\rangle=\n",
        "\\frac{1}{\\sqrt{2}}(|0\\rangle - |1\\rangle)\\otimes \\frac{1}{\\sqrt{2^{n}}}\\sum_{x=0}^{2^n-1}(-1)^{f(x)}|x\\rangle$$\n",
        "          </li>\n",
        "<p>\n",
        "<li>Ahora aplicamos una H a cada cúbit en  $|x\\rangle$ (recordemos que $H^{\\otimes n}|x\\rangle = \\tfrac{1}{\\sqrt{2^n}} \\sum_{i=0}^{2^n-1} (-1)^{x\\cdot i}|i\\rangle)$. Si ya no consideramos el cúbit de abajo, el estado es:<p>\n",
        "$$\n",
        "\\begin{aligned}\n",
        "    \\lvert \\psi_3 \\rangle\n",
        "        & = \\frac{1}{2^n}\\sum_{x=0}^{2^n-1}(-1)^{f(x)}\n",
        "            \\left[ \\sum_{i=0}^{2^n-1}(-1)^{x \\cdot i}\n",
        "            \\vert i \\rangle \\right] \\\\\n",
        "        & = \\frac{1}{2^n}\\sum_{i=0}^{2^n-1}\n",
        "            \\left[ \\sum_{x=0}^{2^n-1}(-1)^{f(x)}(-1)^{x \\cdot i} \\right]\n",
        "            \\vert i \\rangle\n",
        "\\end{aligned}\n",
        "$$\n",
        "       \n",
        "con $x \\cdot i = x_{n-1}i_{n-1}\\oplus x_{n-2}i_{n-2}\\oplus \\ldots \\oplus x_1i_1 \\oplus x_0i_0$.\n",
        "   </li>\n",
        "\n",
        "   <li>Se realiza la medida. La probabilidad de obtener todo 0 ($\\vert i \\rangle=  \\vert 0 \\rangle ^{\\otimes n}$) es:\n",
        "$$\n",
        "       \\left| \\frac{1}{2^n}\\sum_{x=0}^{2^n-1}(-1)^{f(x)} \\right|^2 =\n",
        "       \\begin{cases}\n",
        "       1, \\text{si } f \\text{ es constante}\\\\\n",
        "       0, \\text{si } f \\text{ es balanceada}\n",
        "       \\end{cases}\n",
        "$$\n",
        "   </li>\n",
        "<p>\n",
        "</ol>\n",
        "En conclusión, si a la salida obtenemos todo 0, $f$ es constante. Si obtenemos cualquier otro valor $f$ es balanceada.\n",
        "\n",
        "<p></p>\n",
        "\n",
        "\n",
        "\n"
      ]
    },
    {
      "cell_type": "markdown",
      "source": [
        "<details>\n",
        "    <summary><strong>Demostración de que $H^{\\otimes n}|x\\rangle = \\tfrac{1}{\\sqrt{2^n}} \\sum_{i=0}^{2^n-1} (-1)^{x\\cdot i}|i\\rangle$</strong></summary>\n",
        "\n",
        "El uso de puertas `H` permite poner los n-cúbits en un estado de superposición.\n",
        "\n",
        "El estado de _superposición completa_ es:\n",
        "\n",
        "$$\n",
        "|+\\rangle^{\\otimes n} = H^{\\otimes n}|0\\rangle^{\\otimes n}\n",
        "$$\n",
        "\n",
        "$H^{\\otimes n}$ se conoce como puerta _Walsh-Hadamard_.\n",
        "\n",
        "Ejemplo para 4 cúbits:\n",
        "\n",
        "$$\n",
        "H^{\\otimes 4}|1010\\rangle = H|1\\rangle\\otimes H|0\\rangle\\otimes H|1\\rangle\\otimes H|0\\rangle = \\\\\n",
        "\\frac{1}{4}\\left[(|0\\rangle - |1\\rangle)\\otimes (|0\\rangle + |1\\rangle) \\otimes (|0\\rangle - |1\\rangle) \\otimes (|0\\rangle + |1\\rangle)\\right] = \\frac{1}{4}\\left[\\\\\n",
        "|0000\\rangle+|0001\\rangle-|0010\\rangle-|0011\\rangle+\\\\\n",
        "|0100\\rangle+|0101\\rangle-|0110\\rangle-|0111\\rangle-\\\\\n",
        "|1000\\rangle-|1001\\rangle+|1010\\rangle+|1011\\rangle-\\\\\n",
        "|1100\\rangle-|1101\\rangle+|1110\\rangle+|1111\\rangle\\phantom{-}\\right]\n",
        "$$\n",
        "\n",
        "En este ejemplo, el signo negativo aparece en los estados $|x_3x_2x_1x_0\\rangle$ para los que se verifica que:\n",
        "    \n",
        "$$\n",
        "(x_3x_2x_1x_0)\\cdot(1010) = x_3\\cdot 1\\oplus x_2\\cdot 0 \\oplus x_1\\cdot 1 \\oplus x_0\\cdot 0 = x_3\\oplus x_1 = 1\n",
        "$$\n",
        "\n",
        "que son los estados para los que $x_3 \\ne x_1$.\n",
        "    \n",
        "En general, para un estado $|x\\rangle = |x_{n-1}x_{n-2}\\ldots x_0\\rangle$ de n-cúbits, se puede escribir:\n",
        "\n",
        "$$\n",
        "H^{\\otimes n}|x\\rangle = \\frac{1}{\\sqrt{2^n}} \\sum_{i=0}^{2^n-1} (-1)^{x\\cdot i}|i\\rangle\n",
        "$$\n",
        "\n",
        "siendo $x\\cdot i = x_{n-1}i_{n-1}\\oplus x_{n-2}i_{n-2}\\oplus \\ldots \\oplus x_0i_0$\n",
        "\n",
        "</details>"
      ],
      "metadata": {
        "id": "_dTfMSjHA9pc"
      },
      "id": "_dTfMSjHA9pc"
    },
    {
      "cell_type": "markdown",
      "id": "ae30b7ad",
      "metadata": {
        "id": "ae30b7ad"
      },
      "source": [
        "**Ejemplo**\n",
        "Supongamos $n=2$. Las probabilidades asociadas a cada salida son:\n",
        "\n",
        "$$\n",
        "p(0) = \\left|\\frac{1}{4} \\sum_{x=0}^{3}(-1)^{f(x)}(-1)^{x \\cdot 0} \\right|^2 = \\left|\\frac{1}{4} \\left[ (-1)^{f(0)}(-1)^{0} + (-1)^{f(1)}(-1)^{0} + (-1)^{f(2)}(-1)^{0} + (-1)^{f(3)}(-1)^{0}\\right]  \\right|^2\n",
        "$$\n",
        "$$\n",
        "p(1) = \\left|\\frac{1}{4} \\sum_{x=0}^{3}(-1)^{f(x)}(-1)^{x \\cdot 1} \\right|^2 = \\left|\\frac{1}{4} \\left[ (-1)^{f(0)}(-1)^{0} + (-1)^{f(1)}(-1)^{1} + (-1)^{f(2)}(-1)^{0} + (-1)^{f(3)}(-1)^{1}\\right]  \\right|^2\n",
        "$$\n",
        "$$\n",
        "p(2) = \\left|\\frac{1}{4} \\sum_{x=0}^{3}(-1)^{f(x)}(-1)^{x \\cdot 2} \\right|^2 = \\left|\\frac{1}{4} \\left[ (-1)^{f(0)}(-1)^{0} + (-1)^{f(1)}(-1)^{0} + (-1)^{f(2)}(-1)^{1} + (-1)^{f(3)}(-1)^{1}\\right]  \\right|^2\n",
        "$$\n",
        "$$\n",
        "p(3) = \\left|\\frac{1}{4} \\sum_{x=0}^{3}(-1)^{f(x)}(-1)^{x \\cdot 3} \\right|^2 = \\left|\\frac{1}{4} \\left[ (-1)^{f(0)}(-1)^{0} + (-1)^{f(1)}(-1)^{1} + (-1)^{f(2)}(-1)^{1} + (-1)^{f(3)}(-1)^{0}\\right]  \\right|^2\n",
        "$$\n",
        "\n",
        "Es fácil ver que si $f$ es constante, $p(0)=1$ y $p(1)=p(2)=p(3)=0$, ya que se anulan los términos. Por contra, si $f$ es balanceada $p(0)=0$."
      ]
    },
    {
      "cell_type": "markdown",
      "source": [
        "### Ejemplo en Qiskit"
      ],
      "metadata": {
        "id": "DGx2PpLJrk9H"
      },
      "id": "DGx2PpLJrk9H"
    },
    {
      "cell_type": "markdown",
      "source": [
        "**1. Implementamos los oráculos constante y balanceado**"
      ],
      "metadata": {
        "id": "iaYeAADMsYFa"
      },
      "id": "iaYeAADMsYFa"
    },
    {
      "cell_type": "code",
      "source": [
        "def cte_oraculo(n):\n",
        "    \"\"\"\n",
        "    Define un oraculo para una función constante de n bits\n",
        "        return: circuito de n+1 cúbits en forma de puerta\n",
        "    \"\"\"\n",
        "    qc = QuantumCircuit(n+1)\n",
        "\n",
        "    # En un oraculo cte. f(x) puede ser o siempre 0 o siempre 1,\n",
        "    # lo elegimos random\n",
        "    salida = np.random.randint(2)\n",
        "    if salida == 1:\n",
        "        qc.x(n) # Ponemos a 1 el cubit ancilla\n",
        "\n",
        "    # Salida\n",
        "    return qc\n",
        "\n",
        "def bal_oraculo(n):\n",
        "    \"\"\"\n",
        "    Define un oraculo para una función balanceada de n bits\n",
        "        return: circuito de n+1 cúbits en forma de puerta\n",
        "    \"\"\"\n",
        "    qc = QuantumCircuit(n+1)\n",
        "\n",
        "    # Ejemplo con CNOTS: f(x) = 0 si x tiene paridad par (nº de bits 1 par) o 1 en otro caso.\n",
        "    for q in range(n):\n",
        "        qc.cx(q,n)\n",
        "\n",
        "    # Salida\n",
        "    return qc\n",
        "\n",
        "def dj_oraculo(n, tipo):\n",
        "    \"\"\"\n",
        "    Devuelve un oraculo para el algoritmo de Deutsch-Jozsa\n",
        "        n: Número de cúbits de entrada\n",
        "        tipo: tipo de oráculo, 0 cte., 1 balanceado\n",
        "        return: circuito de n+1 cúbit en forma de puerta\n",
        "    \"\"\"\n",
        "    x = QuantumRegister(n, name=\"|x\\\\rangle\")\n",
        "    y = QuantumRegister(1, name=\"|y\\\\rangle\")\n",
        "    qc = QuantumCircuit(x,y)\n",
        "\n",
        "    if tipo == 0:          # Oraculo cte.\n",
        "        qc = cte_oraculo(n)\n",
        "    else:                  # Oraculo bal.\n",
        "        qc = bal_oraculo(n)\n",
        "\n",
        "    # Salida\n",
        "    oraculo = qc.to_gate()\n",
        "    oraculo.name = \"$U_{f}$\"\n",
        "    return oraculo"
      ],
      "metadata": {
        "id": "pjexeeovrqqp"
      },
      "id": "pjexeeovrqqp",
      "execution_count": null,
      "outputs": []
    },
    {
      "cell_type": "markdown",
      "source": [
        "**2. Implementamos paso a paso el circuito completo del algoritmo de Deutsch-Jozsa:**"
      ],
      "metadata": {
        "id": "qBHt6Z74shxB"
      },
      "id": "qBHt6Z74shxB"
    },
    {
      "cell_type": "markdown",
      "source": [
        "Paso 0: Obtén el estado inicial:\n",
        "        \n",
        "$$\\vert \\psi_0 \\rangle = \\vert 1\\rangle\\vert0\\rangle^{\\otimes n} $$"
      ],
      "metadata": {
        "id": "LQxBJO4Qsqlv"
      },
      "id": "LQxBJO4Qsqlv"
    },
    {
      "cell_type": "code",
      "source": [
        "def paso_0(n):\n",
        "    qc = QuantumCircuit(n+1,n)\n",
        "\n",
        "    # TODO: Invierre el cúbit más significativo\n",
        "\n",
        "\n",
        "    return qc\n",
        "\n",
        "# Mostramos el circuito\n",
        "n = 4\n",
        "paso_0(n).draw('mpl')"
      ],
      "metadata": {
        "id": "V0SCrE_WsNL-"
      },
      "id": "V0SCrE_WsNL-",
      "execution_count": null,
      "outputs": []
    },
    {
      "cell_type": "markdown",
      "source": [
        "Paso 1: Obtén el estado\n",
        "$$\\vert \\psi_1 \\rangle = \\frac{1}{\\sqrt{2^{n+1}}}\\sum_{x=0}^{2^n-1} \\left(|0\\rangle - |1 \\rangle \\right)\\vert x\\rangle $$"
      ],
      "metadata": {
        "id": "YuudrIkxs6u9"
      },
      "id": "YuudrIkxs6u9"
    },
    {
      "cell_type": "code",
      "source": [
        "def paso_1(n):\n",
        "    qc = paso_0(n)\n",
        "\n",
        "    # TODO: Añade las puertas H para obtener el estado 𝜓1\n",
        "\n",
        "\n",
        "    return qc\n",
        "\n",
        "# Mostramos el circuito\n",
        "paso_1(n).draw('mpl')"
      ],
      "metadata": {
        "id": "wXKtVTiRs_T6"
      },
      "id": "wXKtVTiRs_T6",
      "execution_count": null,
      "outputs": []
    },
    {
      "cell_type": "markdown",
      "source": [
        "Paso 2: Añadimos el oráculo para obtener:\n",
        "$$\n",
        "\\lvert \\psi_2 \\rangle  \n",
        "                 = \\frac{|0\\rangle - |1\\rangle}{\\sqrt{2^{n+1}}}\\sum_{x=0}^{2^n-1}(-1)^{f(x)}|x\\rangle  \n",
        "$$"
      ],
      "metadata": {
        "id": "Ph2hKupqtJdA"
      },
      "id": "Ph2hKupqtJdA"
    },
    {
      "cell_type": "code",
      "source": [
        "def paso_2(n, tipo_oraculo):\n",
        "    qc = paso_1(n)\n",
        "\n",
        "    # Añadimos barreras para una mejor visualización\n",
        "    qc.barrier()\n",
        "\n",
        "    # TODO: Añade el oráculo\n",
        "    qc =\n",
        "\n",
        "    # Añadimos barreras para una mejor visualización\n",
        "    qc.barrier()\n",
        "\n",
        "    return qc\n",
        "\n",
        "# Mostramos el circuito\n",
        "tipo_oraculo = np.random.randint(2)\n",
        "\n",
        "paso_2(n, tipo_oraculo).draw('mpl')"
      ],
      "metadata": {
        "id": "AvHqPIVatSAn"
      },
      "id": "AvHqPIVatSAn",
      "execution_count": null,
      "outputs": []
    },
    {
      "cell_type": "markdown",
      "source": [
        "Paso 3: Añade las últimas puertas H y la medida de los $n$ primeros cúbits."
      ],
      "metadata": {
        "id": "A_Fp_F_Qtdbf"
      },
      "id": "A_Fp_F_Qtdbf"
    },
    {
      "cell_type": "code",
      "source": [
        "def paso_3(n, tipo_oraculo):\n",
        "    qc = paso_2(n, tipo_oraculo)\n",
        "\n",
        "    # TODO: Añade las puertas H y la medida\n",
        "\n",
        "\n",
        "    return qc\n",
        "\n",
        "# Selecciona un oráculo aleatorio\n",
        "tipo_oraculo = np.random.randint(2)\n",
        "\n",
        "dj_circuito = paso_3(n, tipo_oraculo)\n",
        "dj_circuito.draw('mpl')"
      ],
      "metadata": {
        "id": "vnRnzYCttgtJ"
      },
      "id": "vnRnzYCttgtJ",
      "execution_count": null,
      "outputs": []
    },
    {
      "cell_type": "markdown",
      "source": [
        "Por último, simulamos el circuito y obtenemos un histograma de la salida:"
      ],
      "metadata": {
        "id": "-t1gME8LtoxR"
      },
      "id": "-t1gME8LtoxR"
    },
    {
      "cell_type": "code",
      "source": [
        "# Usamos Aer\n",
        "sim = AerSimulator(method='automatic')\n",
        "qc_obj = transpile(dj_circuito, sim)\n",
        "result = sim.run(qc_obj, shots=1024).result()\n",
        "salida = result.get_counts()\n",
        "plot_histogram(salida)"
      ],
      "metadata": {
        "id": "MHTPogz1tthf"
      },
      "id": "MHTPogz1tthf",
      "execution_count": null,
      "outputs": []
    },
    {
      "cell_type": "markdown",
      "source": [
        "Verifica que si el oráculo es constante, la salida es 0, y si es balanceado es $\\ne 0$."
      ],
      "metadata": {
        "id": "d9j1YQXMt2FH"
      },
      "id": "d9j1YQXMt2FH"
    },
    {
      "cell_type": "code",
      "source": [],
      "metadata": {
        "id": "-erhGFcjt0Hs"
      },
      "id": "-erhGFcjt0Hs",
      "execution_count": null,
      "outputs": []
    },
    {
      "cell_type": "markdown",
      "id": "26263e9e",
      "metadata": {
        "id": "26263e9e"
      },
      "source": [
        "-------------------------------\n",
        "-------------------------------\n",
        "-------------------------------"
      ]
    }
  ],
  "metadata": {
    "kernelspec": {
      "display_name": "Python 3 (ipykernel)",
      "language": "python",
      "name": "python3"
    },
    "language_info": {
      "codemirror_mode": {
        "name": "ipython",
        "version": 3
      },
      "file_extension": ".py",
      "mimetype": "text/x-python",
      "name": "python",
      "nbconvert_exporter": "python",
      "pygments_lexer": "ipython3",
      "version": "3.12.2"
    },
    "colab": {
      "provenance": [],
      "include_colab_link": true
    }
  },
  "nbformat": 4,
  "nbformat_minor": 5
}